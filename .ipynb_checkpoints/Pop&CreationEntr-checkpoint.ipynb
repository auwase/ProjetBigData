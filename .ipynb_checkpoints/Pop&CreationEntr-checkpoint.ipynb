{
 "cells": [
  {
   "cell_type": "markdown",
   "id": "5c750feb-1c68-4e81-87b9-e69aa97e91f6",
   "metadata": {},
   "source": [
    "### 1. Exploration des données"
   ]
  },
  {
   "cell_type": "code",
   "execution_count": 1,
   "id": "a02e9d85-04c3-409e-8c84-a46440691908",
   "metadata": {},
   "outputs": [],
   "source": [
    "\n",
    "import pandas as pd\n",
    "from IPython.display import display\n",
    "from sklearn.decomposition import PCA\n",
    "from sklearn.preprocessing import StandardScaler\n",
    "import matplotlib.pyplot as plt\n",
    "import seaborn as sns\n",
    "import plotly.express as px"
   ]
  },
  {
   "cell_type": "code",
   "execution_count": 2,
   "id": "16960427-89cc-4347-a069-b61c81466288",
   "metadata": {},
   "outputs": [
    {
     "data": {
      "text/html": [
       "<div>\n",
       "<style scoped>\n",
       "    .dataframe tbody tr th:only-of-type {\n",
       "        vertical-align: middle;\n",
       "    }\n",
       "\n",
       "    .dataframe tbody tr th {\n",
       "        vertical-align: top;\n",
       "    }\n",
       "\n",
       "    .dataframe thead th {\n",
       "        text-align: right;\n",
       "    }\n",
       "</style>\n",
       "<table border=\"1\" class=\"dataframe\">\n",
       "  <thead>\n",
       "    <tr style=\"text-align: right;\">\n",
       "      <th></th>\n",
       "      <th>Libellé commune ou ARM</th>\n",
       "      <th>Créations d'entr. En 2022</th>\n",
       "      <th>Population</th>\n",
       "    </tr>\n",
       "  </thead>\n",
       "  <tbody>\n",
       "    <tr>\n",
       "      <th>0</th>\n",
       "      <td>L'Abergement-Clémenciat</td>\n",
       "      <td>17</td>\n",
       "      <td>821</td>\n",
       "    </tr>\n",
       "    <tr>\n",
       "      <th>1</th>\n",
       "      <td>L'Abergement-de-Varey</td>\n",
       "      <td>3</td>\n",
       "      <td>268</td>\n",
       "    </tr>\n",
       "    <tr>\n",
       "      <th>2</th>\n",
       "      <td>Ambérieu-en-Bugey</td>\n",
       "      <td>218</td>\n",
       "      <td>14662</td>\n",
       "    </tr>\n",
       "    <tr>\n",
       "      <th>3</th>\n",
       "      <td>Ambérieux-en-Dombes</td>\n",
       "      <td>32</td>\n",
       "      <td>1806</td>\n",
       "    </tr>\n",
       "    <tr>\n",
       "      <th>4</th>\n",
       "      <td>Ambléon</td>\n",
       "      <td>2</td>\n",
       "      <td>113</td>\n",
       "    </tr>\n",
       "    <tr>\n",
       "      <th>...</th>\n",
       "      <td>...</td>\n",
       "      <td>...</td>\n",
       "      <td>...</td>\n",
       "    </tr>\n",
       "    <tr>\n",
       "      <th>34916</th>\n",
       "      <td>Paris 16e Arrondissement</td>\n",
       "      <td>6440</td>\n",
       "      <td>165118</td>\n",
       "    </tr>\n",
       "    <tr>\n",
       "      <th>34917</th>\n",
       "      <td>Paris 17e Arrondissement</td>\n",
       "      <td>7772</td>\n",
       "      <td>167765</td>\n",
       "    </tr>\n",
       "    <tr>\n",
       "      <th>34918</th>\n",
       "      <td>Paris 18e Arrondissement</td>\n",
       "      <td>5958</td>\n",
       "      <td>191911</td>\n",
       "    </tr>\n",
       "    <tr>\n",
       "      <th>34919</th>\n",
       "      <td>Paris 19e Arrondissement</td>\n",
       "      <td>5451</td>\n",
       "      <td>184156</td>\n",
       "    </tr>\n",
       "    <tr>\n",
       "      <th>34920</th>\n",
       "      <td>Paris 20e Arrondissement</td>\n",
       "      <td>5030</td>\n",
       "      <td>193044</td>\n",
       "    </tr>\n",
       "  </tbody>\n",
       "</table>\n",
       "<p>34921 rows × 3 columns</p>\n",
       "</div>"
      ],
      "text/plain": [
       "         Libellé commune ou ARM  Créations d'entr. En 2022  Population \n",
       "0       L'Abergement-Clémenciat                         17          821\n",
       "1         L'Abergement-de-Varey                          3          268\n",
       "2             Ambérieu-en-Bugey                        218        14662\n",
       "3           Ambérieux-en-Dombes                         32         1806\n",
       "4                       Ambléon                          2          113\n",
       "...                         ...                        ...          ...\n",
       "34916  Paris 16e Arrondissement                       6440       165118\n",
       "34917  Paris 17e Arrondissement                       7772       167765\n",
       "34918  Paris 18e Arrondissement                       5958       191911\n",
       "34919  Paris 19e Arrondissement                       5451       184156\n",
       "34920  Paris 20e Arrondissement                       5030       193044\n",
       "\n",
       "[34921 rows x 3 columns]"
      ]
     },
     "metadata": {},
     "output_type": "display_data"
    }
   ],
   "source": [
    "POP_CreationEntrp = pd.read_excel('C:/Users/benja/OneDrive/Bureau/Sol/MASTER2 2024-2025/BigData/Projet/POP_CreationEntrp.xlsx')\n",
    "display(POP_CreationEntrp)"
   ]
  },
  {
   "cell_type": "code",
   "execution_count": 3,
   "id": "e9324832-5f22-4304-b73c-eeded82291ca",
   "metadata": {},
   "outputs": [],
   "source": [
    "POP_CreationEntrp = POP_CreationEntrp.set_index('Libellé commune ou ARM')"
   ]
  },
  {
   "cell_type": "code",
   "execution_count": 4,
   "id": "a0af41a0-470f-4cdc-891f-f4a517aef845",
   "metadata": {
    "collapsed": true,
    "jupyter": {
     "outputs_hidden": true
    }
   },
   "outputs": [
    {
     "data": {
      "text/html": [
       "<div>\n",
       "<style scoped>\n",
       "    .dataframe tbody tr th:only-of-type {\n",
       "        vertical-align: middle;\n",
       "    }\n",
       "\n",
       "    .dataframe tbody tr th {\n",
       "        vertical-align: top;\n",
       "    }\n",
       "\n",
       "    .dataframe thead th {\n",
       "        text-align: right;\n",
       "    }\n",
       "</style>\n",
       "<table border=\"1\" class=\"dataframe\">\n",
       "  <thead>\n",
       "    <tr style=\"text-align: right;\">\n",
       "      <th></th>\n",
       "      <th>Créations d'entr. En 2022</th>\n",
       "      <th>Population</th>\n",
       "    </tr>\n",
       "    <tr>\n",
       "      <th>Libellé commune ou ARM</th>\n",
       "      <th></th>\n",
       "      <th></th>\n",
       "    </tr>\n",
       "  </thead>\n",
       "  <tbody>\n",
       "    <tr>\n",
       "      <th>L'Abergement-Clémenciat</th>\n",
       "      <td>17</td>\n",
       "      <td>821</td>\n",
       "    </tr>\n",
       "    <tr>\n",
       "      <th>L'Abergement-de-Varey</th>\n",
       "      <td>3</td>\n",
       "      <td>268</td>\n",
       "    </tr>\n",
       "    <tr>\n",
       "      <th>Ambérieu-en-Bugey</th>\n",
       "      <td>218</td>\n",
       "      <td>14662</td>\n",
       "    </tr>\n",
       "    <tr>\n",
       "      <th>Ambérieux-en-Dombes</th>\n",
       "      <td>32</td>\n",
       "      <td>1806</td>\n",
       "    </tr>\n",
       "    <tr>\n",
       "      <th>Ambléon</th>\n",
       "      <td>2</td>\n",
       "      <td>113</td>\n",
       "    </tr>\n",
       "    <tr>\n",
       "      <th>...</th>\n",
       "      <td>...</td>\n",
       "      <td>...</td>\n",
       "    </tr>\n",
       "    <tr>\n",
       "      <th>Paris 16e Arrondissement</th>\n",
       "      <td>6440</td>\n",
       "      <td>165118</td>\n",
       "    </tr>\n",
       "    <tr>\n",
       "      <th>Paris 17e Arrondissement</th>\n",
       "      <td>7772</td>\n",
       "      <td>167765</td>\n",
       "    </tr>\n",
       "    <tr>\n",
       "      <th>Paris 18e Arrondissement</th>\n",
       "      <td>5958</td>\n",
       "      <td>191911</td>\n",
       "    </tr>\n",
       "    <tr>\n",
       "      <th>Paris 19e Arrondissement</th>\n",
       "      <td>5451</td>\n",
       "      <td>184156</td>\n",
       "    </tr>\n",
       "    <tr>\n",
       "      <th>Paris 20e Arrondissement</th>\n",
       "      <td>5030</td>\n",
       "      <td>193044</td>\n",
       "    </tr>\n",
       "  </tbody>\n",
       "</table>\n",
       "<p>34921 rows × 2 columns</p>\n",
       "</div>"
      ],
      "text/plain": [
       "                          Créations d'entr. En 2022  Population \n",
       "Libellé commune ou ARM                                          \n",
       "L'Abergement-Clémenciat                          17          821\n",
       "L'Abergement-de-Varey                             3          268\n",
       "Ambérieu-en-Bugey                               218        14662\n",
       "Ambérieux-en-Dombes                              32         1806\n",
       "Ambléon                                           2          113\n",
       "...                                             ...          ...\n",
       "Paris 16e Arrondissement                       6440       165118\n",
       "Paris 17e Arrondissement                       7772       167765\n",
       "Paris 18e Arrondissement                       5958       191911\n",
       "Paris 19e Arrondissement                       5451       184156\n",
       "Paris 20e Arrondissement                       5030       193044\n",
       "\n",
       "[34921 rows x 2 columns]"
      ]
     },
     "metadata": {},
     "output_type": "display_data"
    }
   ],
   "source": [
    "display(POP_CreationEntrp)"
   ]
  },
  {
   "cell_type": "code",
   "execution_count": 6,
   "id": "0ad4e632-df22-4385-bb83-e0f65482a6a5",
   "metadata": {},
   "outputs": [
    {
     "name": "stdout",
     "output_type": "stream",
     "text": [
      "       Créations d'entr. En 2022    Population \n",
      "count               34921.000000   34921.000000\n",
      "mean                   30.975774    1898.958363\n",
      "std                   246.489921    8635.897864\n",
      "min                     0.000000       0.000000\n",
      "25%                     2.000000     201.000000\n",
      "50%                     5.000000     463.000000\n",
      "75%                    13.000000    1180.000000\n",
      "max                 22888.000000  503020.000000\n"
     ]
    }
   ],
   "source": [
    "print(POP_CreationEntrp.describe())"
   ]
  },
  {
   "cell_type": "code",
   "execution_count": 7,
   "id": "3449bf00-cb7c-4a98-acba-c89d69d929b3",
   "metadata": {},
   "outputs": [],
   "source": [
    "POP_CreationEntrp.columns = POP_CreationEntrp.columns.str.strip()\n"
   ]
  },
  {
   "cell_type": "code",
   "execution_count": 8,
   "id": "a78b284c-be52-4296-b93f-c3f4ba795580",
   "metadata": {},
   "outputs": [
    {
     "name": "stdout",
     "output_type": "stream",
     "text": [
      "Index(['Créations d'entr. En 2022', 'Population'], dtype='object')\n"
     ]
    }
   ],
   "source": [
    "print(POP_CreationEntrp.columns)"
   ]
  },
  {
   "cell_type": "code",
   "execution_count": 12,
   "id": "96eee842-e840-4944-a289-77347fad89d0",
   "metadata": {},
   "outputs": [],
   "source": [
    "POP_CreationEntrp = POP_CreationEntrp.reset_index()"
   ]
  },
  {
   "cell_type": "code",
   "execution_count": 13,
   "id": "3fb63ef2-f672-41de-adab-f0517541ef7c",
   "metadata": {},
   "outputs": [
    {
     "data": {
      "text/html": [
       "<div>\n",
       "<style scoped>\n",
       "    .dataframe tbody tr th:only-of-type {\n",
       "        vertical-align: middle;\n",
       "    }\n",
       "\n",
       "    .dataframe tbody tr th {\n",
       "        vertical-align: top;\n",
       "    }\n",
       "\n",
       "    .dataframe thead th {\n",
       "        text-align: right;\n",
       "    }\n",
       "</style>\n",
       "<table border=\"1\" class=\"dataframe\">\n",
       "  <thead>\n",
       "    <tr style=\"text-align: right;\">\n",
       "      <th></th>\n",
       "      <th>index</th>\n",
       "      <th>Libellé commune ou ARM</th>\n",
       "      <th>Créations d'entr. En 2022</th>\n",
       "      <th>Population</th>\n",
       "    </tr>\n",
       "  </thead>\n",
       "  <tbody>\n",
       "    <tr>\n",
       "      <th>0</th>\n",
       "      <td>0</td>\n",
       "      <td>L'Abergement-Clémenciat</td>\n",
       "      <td>17</td>\n",
       "      <td>821</td>\n",
       "    </tr>\n",
       "    <tr>\n",
       "      <th>1</th>\n",
       "      <td>1</td>\n",
       "      <td>L'Abergement-de-Varey</td>\n",
       "      <td>3</td>\n",
       "      <td>268</td>\n",
       "    </tr>\n",
       "    <tr>\n",
       "      <th>2</th>\n",
       "      <td>2</td>\n",
       "      <td>Ambérieu-en-Bugey</td>\n",
       "      <td>218</td>\n",
       "      <td>14662</td>\n",
       "    </tr>\n",
       "    <tr>\n",
       "      <th>3</th>\n",
       "      <td>3</td>\n",
       "      <td>Ambérieux-en-Dombes</td>\n",
       "      <td>32</td>\n",
       "      <td>1806</td>\n",
       "    </tr>\n",
       "    <tr>\n",
       "      <th>4</th>\n",
       "      <td>4</td>\n",
       "      <td>Ambléon</td>\n",
       "      <td>2</td>\n",
       "      <td>113</td>\n",
       "    </tr>\n",
       "    <tr>\n",
       "      <th>...</th>\n",
       "      <td>...</td>\n",
       "      <td>...</td>\n",
       "      <td>...</td>\n",
       "      <td>...</td>\n",
       "    </tr>\n",
       "    <tr>\n",
       "      <th>34916</th>\n",
       "      <td>34916</td>\n",
       "      <td>Paris 16e Arrondissement</td>\n",
       "      <td>6440</td>\n",
       "      <td>165118</td>\n",
       "    </tr>\n",
       "    <tr>\n",
       "      <th>34917</th>\n",
       "      <td>34917</td>\n",
       "      <td>Paris 17e Arrondissement</td>\n",
       "      <td>7772</td>\n",
       "      <td>167765</td>\n",
       "    </tr>\n",
       "    <tr>\n",
       "      <th>34918</th>\n",
       "      <td>34918</td>\n",
       "      <td>Paris 18e Arrondissement</td>\n",
       "      <td>5958</td>\n",
       "      <td>191911</td>\n",
       "    </tr>\n",
       "    <tr>\n",
       "      <th>34919</th>\n",
       "      <td>34919</td>\n",
       "      <td>Paris 19e Arrondissement</td>\n",
       "      <td>5451</td>\n",
       "      <td>184156</td>\n",
       "    </tr>\n",
       "    <tr>\n",
       "      <th>34920</th>\n",
       "      <td>34920</td>\n",
       "      <td>Paris 20e Arrondissement</td>\n",
       "      <td>5030</td>\n",
       "      <td>193044</td>\n",
       "    </tr>\n",
       "  </tbody>\n",
       "</table>\n",
       "<p>34921 rows × 4 columns</p>\n",
       "</div>"
      ],
      "text/plain": [
       "       index    Libellé commune ou ARM  Créations d'entr. En 2022  Population\n",
       "0          0   L'Abergement-Clémenciat                         17         821\n",
       "1          1     L'Abergement-de-Varey                          3         268\n",
       "2          2         Ambérieu-en-Bugey                        218       14662\n",
       "3          3       Ambérieux-en-Dombes                         32        1806\n",
       "4          4                   Ambléon                          2         113\n",
       "...      ...                       ...                        ...         ...\n",
       "34916  34916  Paris 16e Arrondissement                       6440      165118\n",
       "34917  34917  Paris 17e Arrondissement                       7772      167765\n",
       "34918  34918  Paris 18e Arrondissement                       5958      191911\n",
       "34919  34919  Paris 19e Arrondissement                       5451      184156\n",
       "34920  34920  Paris 20e Arrondissement                       5030      193044\n",
       "\n",
       "[34921 rows x 4 columns]"
      ]
     },
     "metadata": {},
     "output_type": "display_data"
    }
   ],
   "source": [
    "display(POP_CreationEntrp)"
   ]
  },
  {
   "cell_type": "code",
   "execution_count": 14,
   "id": "88253a99-7d17-4b45-b663-f5c51a2f08ab",
   "metadata": {},
   "outputs": [],
   "source": [
    "POP_CreationEntrp = POP_CreationEntrp.drop(POP_CreationEntrp.columns[0], axis=1)\n"
   ]
  },
  {
   "cell_type": "code",
   "execution_count": 15,
   "id": "4dfdb52a-94ee-45ae-b0c9-21b2df4d4ac9",
   "metadata": {},
   "outputs": [
    {
     "data": {
      "text/html": [
       "<div>\n",
       "<style scoped>\n",
       "    .dataframe tbody tr th:only-of-type {\n",
       "        vertical-align: middle;\n",
       "    }\n",
       "\n",
       "    .dataframe tbody tr th {\n",
       "        vertical-align: top;\n",
       "    }\n",
       "\n",
       "    .dataframe thead th {\n",
       "        text-align: right;\n",
       "    }\n",
       "</style>\n",
       "<table border=\"1\" class=\"dataframe\">\n",
       "  <thead>\n",
       "    <tr style=\"text-align: right;\">\n",
       "      <th></th>\n",
       "      <th>Libellé commune ou ARM</th>\n",
       "      <th>Créations d'entr. En 2022</th>\n",
       "      <th>Population</th>\n",
       "    </tr>\n",
       "  </thead>\n",
       "  <tbody>\n",
       "    <tr>\n",
       "      <th>0</th>\n",
       "      <td>L'Abergement-Clémenciat</td>\n",
       "      <td>17</td>\n",
       "      <td>821</td>\n",
       "    </tr>\n",
       "    <tr>\n",
       "      <th>1</th>\n",
       "      <td>L'Abergement-de-Varey</td>\n",
       "      <td>3</td>\n",
       "      <td>268</td>\n",
       "    </tr>\n",
       "    <tr>\n",
       "      <th>2</th>\n",
       "      <td>Ambérieu-en-Bugey</td>\n",
       "      <td>218</td>\n",
       "      <td>14662</td>\n",
       "    </tr>\n",
       "    <tr>\n",
       "      <th>3</th>\n",
       "      <td>Ambérieux-en-Dombes</td>\n",
       "      <td>32</td>\n",
       "      <td>1806</td>\n",
       "    </tr>\n",
       "    <tr>\n",
       "      <th>4</th>\n",
       "      <td>Ambléon</td>\n",
       "      <td>2</td>\n",
       "      <td>113</td>\n",
       "    </tr>\n",
       "    <tr>\n",
       "      <th>...</th>\n",
       "      <td>...</td>\n",
       "      <td>...</td>\n",
       "      <td>...</td>\n",
       "    </tr>\n",
       "    <tr>\n",
       "      <th>34916</th>\n",
       "      <td>Paris 16e Arrondissement</td>\n",
       "      <td>6440</td>\n",
       "      <td>165118</td>\n",
       "    </tr>\n",
       "    <tr>\n",
       "      <th>34917</th>\n",
       "      <td>Paris 17e Arrondissement</td>\n",
       "      <td>7772</td>\n",
       "      <td>167765</td>\n",
       "    </tr>\n",
       "    <tr>\n",
       "      <th>34918</th>\n",
       "      <td>Paris 18e Arrondissement</td>\n",
       "      <td>5958</td>\n",
       "      <td>191911</td>\n",
       "    </tr>\n",
       "    <tr>\n",
       "      <th>34919</th>\n",
       "      <td>Paris 19e Arrondissement</td>\n",
       "      <td>5451</td>\n",
       "      <td>184156</td>\n",
       "    </tr>\n",
       "    <tr>\n",
       "      <th>34920</th>\n",
       "      <td>Paris 20e Arrondissement</td>\n",
       "      <td>5030</td>\n",
       "      <td>193044</td>\n",
       "    </tr>\n",
       "  </tbody>\n",
       "</table>\n",
       "<p>34921 rows × 3 columns</p>\n",
       "</div>"
      ],
      "text/plain": [
       "         Libellé commune ou ARM  Créations d'entr. En 2022  Population\n",
       "0       L'Abergement-Clémenciat                         17         821\n",
       "1         L'Abergement-de-Varey                          3         268\n",
       "2             Ambérieu-en-Bugey                        218       14662\n",
       "3           Ambérieux-en-Dombes                         32        1806\n",
       "4                       Ambléon                          2         113\n",
       "...                         ...                        ...         ...\n",
       "34916  Paris 16e Arrondissement                       6440      165118\n",
       "34917  Paris 17e Arrondissement                       7772      167765\n",
       "34918  Paris 18e Arrondissement                       5958      191911\n",
       "34919  Paris 19e Arrondissement                       5451      184156\n",
       "34920  Paris 20e Arrondissement                       5030      193044\n",
       "\n",
       "[34921 rows x 3 columns]"
      ]
     },
     "metadata": {},
     "output_type": "display_data"
    }
   ],
   "source": [
    "display(POP_CreationEntrp)"
   ]
  },
  {
   "cell_type": "markdown",
   "id": "236c7884-37f8-4b48-a3fc-d81ae44b0eca",
   "metadata": {},
   "source": [
    "### 2. Visualisation par une Carte \n"
   ]
  },
  {
   "cell_type": "markdown",
   "id": "e45ff3bc-f7b4-4829-9169-35ceee76c2d5",
   "metadata": {},
   "source": [
    "\n",
    "* Dans cette analyse, nous avons sélectionné un échantillon de communes représentatives pour visualiser les créations d'entreprises en 2022 sur une carte interactive, en utilisant l'API OpenCage pour obtenir leurs coordonnées géographiques.\n",
    "* Chaque commune est indiquée par un marqueur qui affiche des informations sur le nombre de créations d'entreprises et la population locale lors du     clic.\n"
   ]
  },
  {
   "cell_type": "code",
   "execution_count": 36,
   "id": "75600365-cbe2-47bb-9ee9-326d4c9844d0",
   "metadata": {},
   "outputs": [
    {
     "data": {
      "text/html": [
       "<div style=\"width:100%;\"><div style=\"position:relative;width:100%;height:0;padding-bottom:60%;\"><span style=\"color:#565656\">Make this Notebook Trusted to load map: File -> Trust Notebook</span><iframe srcdoc=\"&lt;!DOCTYPE html&gt;\n",
       "&lt;html&gt;\n",
       "&lt;head&gt;\n",
       "    \n",
       "    &lt;meta http-equiv=&quot;content-type&quot; content=&quot;text/html; charset=UTF-8&quot; /&gt;\n",
       "    \n",
       "        &lt;script&gt;\n",
       "            L_NO_TOUCH = false;\n",
       "            L_DISABLE_3D = false;\n",
       "        &lt;/script&gt;\n",
       "    \n",
       "    &lt;style&gt;html, body {width: 100%;height: 100%;margin: 0;padding: 0;}&lt;/style&gt;\n",
       "    &lt;style&gt;#map {position:absolute;top:0;bottom:0;right:0;left:0;}&lt;/style&gt;\n",
       "    &lt;script src=&quot;https://cdn.jsdelivr.net/npm/leaflet@1.9.3/dist/leaflet.js&quot;&gt;&lt;/script&gt;\n",
       "    &lt;script src=&quot;https://code.jquery.com/jquery-3.7.1.min.js&quot;&gt;&lt;/script&gt;\n",
       "    &lt;script src=&quot;https://cdn.jsdelivr.net/npm/bootstrap@5.2.2/dist/js/bootstrap.bundle.min.js&quot;&gt;&lt;/script&gt;\n",
       "    &lt;script src=&quot;https://cdnjs.cloudflare.com/ajax/libs/Leaflet.awesome-markers/2.0.2/leaflet.awesome-markers.js&quot;&gt;&lt;/script&gt;\n",
       "    &lt;link rel=&quot;stylesheet&quot; href=&quot;https://cdn.jsdelivr.net/npm/leaflet@1.9.3/dist/leaflet.css&quot;/&gt;\n",
       "    &lt;link rel=&quot;stylesheet&quot; href=&quot;https://cdn.jsdelivr.net/npm/bootstrap@5.2.2/dist/css/bootstrap.min.css&quot;/&gt;\n",
       "    &lt;link rel=&quot;stylesheet&quot; href=&quot;https://netdna.bootstrapcdn.com/bootstrap/3.0.0/css/bootstrap-glyphicons.css&quot;/&gt;\n",
       "    &lt;link rel=&quot;stylesheet&quot; href=&quot;https://cdn.jsdelivr.net/npm/@fortawesome/fontawesome-free@6.2.0/css/all.min.css&quot;/&gt;\n",
       "    &lt;link rel=&quot;stylesheet&quot; href=&quot;https://cdnjs.cloudflare.com/ajax/libs/Leaflet.awesome-markers/2.0.2/leaflet.awesome-markers.css&quot;/&gt;\n",
       "    &lt;link rel=&quot;stylesheet&quot; href=&quot;https://cdn.jsdelivr.net/gh/python-visualization/folium/folium/templates/leaflet.awesome.rotate.min.css&quot;/&gt;\n",
       "    \n",
       "            &lt;meta name=&quot;viewport&quot; content=&quot;width=device-width,\n",
       "                initial-scale=1.0, maximum-scale=1.0, user-scalable=no&quot; /&gt;\n",
       "            &lt;style&gt;\n",
       "                #map_0a2d0386f468fa78fd2a30e59e790f65 {\n",
       "                    position: relative;\n",
       "                    width: 100.0%;\n",
       "                    height: 100.0%;\n",
       "                    left: 0.0%;\n",
       "                    top: 0.0%;\n",
       "                }\n",
       "                .leaflet-container { font-size: 1rem; }\n",
       "            &lt;/style&gt;\n",
       "        \n",
       "&lt;/head&gt;\n",
       "&lt;body&gt;\n",
       "    \n",
       "    \n",
       "            &lt;div class=&quot;folium-map&quot; id=&quot;map_0a2d0386f468fa78fd2a30e59e790f65&quot; &gt;&lt;/div&gt;\n",
       "        \n",
       "&lt;/body&gt;\n",
       "&lt;script&gt;\n",
       "    \n",
       "    \n",
       "            var map_0a2d0386f468fa78fd2a30e59e790f65 = L.map(\n",
       "                &quot;map_0a2d0386f468fa78fd2a30e59e790f65&quot;,\n",
       "                {\n",
       "                    center: [46.603354, 1.888334],\n",
       "                    crs: L.CRS.EPSG3857,\n",
       "                    zoom: 6,\n",
       "                    zoomControl: true,\n",
       "                    preferCanvas: false,\n",
       "                }\n",
       "            );\n",
       "\n",
       "            \n",
       "\n",
       "        \n",
       "    \n",
       "            var tile_layer_9884d969d8104c5c0274e19b3f3b6d03 = L.tileLayer(\n",
       "                &quot;https://tile.openstreetmap.org/{z}/{x}/{y}.png&quot;,\n",
       "                {&quot;attribution&quot;: &quot;\\u0026copy; \\u003ca href=\\&quot;https://www.openstreetmap.org/copyright\\&quot;\\u003eOpenStreetMap\\u003c/a\\u003e contributors&quot;, &quot;detectRetina&quot;: false, &quot;maxNativeZoom&quot;: 19, &quot;maxZoom&quot;: 19, &quot;minZoom&quot;: 0, &quot;noWrap&quot;: false, &quot;opacity&quot;: 1, &quot;subdomains&quot;: &quot;abc&quot;, &quot;tms&quot;: false}\n",
       "            );\n",
       "        \n",
       "    \n",
       "            tile_layer_9884d969d8104c5c0274e19b3f3b6d03.addTo(map_0a2d0386f468fa78fd2a30e59e790f65);\n",
       "        \n",
       "    \n",
       "            var marker_0f46cfda97d2628e25ef47ea3a07029c = L.marker(\n",
       "                [50.6365654, 3.0635282],\n",
       "                {}\n",
       "            ).addTo(map_0a2d0386f468fa78fd2a30e59e790f65);\n",
       "        \n",
       "    \n",
       "            var icon_44dda796fb4547e2917c11959a26847a = L.AwesomeMarkers.icon(\n",
       "                {&quot;extraClasses&quot;: &quot;fa-rotate-0&quot;, &quot;icon&quot;: &quot;info-sign&quot;, &quot;iconColor&quot;: &quot;white&quot;, &quot;markerColor&quot;: &quot;blue&quot;, &quot;prefix&quot;: &quot;glyphicon&quot;}\n",
       "            );\n",
       "            marker_0f46cfda97d2628e25ef47ea3a07029c.setIcon(icon_44dda796fb4547e2917c11959a26847a);\n",
       "        \n",
       "    \n",
       "        var popup_0913224acf792ae94c77acdfe95d6286 = L.popup({&quot;maxWidth&quot;: &quot;100%&quot;});\n",
       "\n",
       "        \n",
       "            \n",
       "                var html_dbb22a14d827dc185c12273d61793f58 = $(`&lt;div id=&quot;html_dbb22a14d827dc185c12273d61793f58&quot; style=&quot;width: 100.0%; height: 100.0%;&quot;&gt;Commune: Lille&lt;br&gt;Créations d&#x27;entreprises: 6147.0&lt;br&gt;Population: 238104.0&lt;/div&gt;`)[0];\n",
       "                popup_0913224acf792ae94c77acdfe95d6286.setContent(html_dbb22a14d827dc185c12273d61793f58);\n",
       "            \n",
       "        \n",
       "\n",
       "        marker_0f46cfda97d2628e25ef47ea3a07029c.bindPopup(popup_0913224acf792ae94c77acdfe95d6286)\n",
       "        ;\n",
       "\n",
       "        \n",
       "    \n",
       "    \n",
       "            var marker_ce9a8926708be5f4235f92b96553bff6 = L.marker(\n",
       "                [43.9492493, 4.8059012],\n",
       "                {}\n",
       "            ).addTo(map_0a2d0386f468fa78fd2a30e59e790f65);\n",
       "        \n",
       "    \n",
       "            var icon_b9dabe46b1b2de8621e460e61c3be850 = L.AwesomeMarkers.icon(\n",
       "                {&quot;extraClasses&quot;: &quot;fa-rotate-0&quot;, &quot;icon&quot;: &quot;info-sign&quot;, &quot;iconColor&quot;: &quot;white&quot;, &quot;markerColor&quot;: &quot;blue&quot;, &quot;prefix&quot;: &quot;glyphicon&quot;}\n",
       "            );\n",
       "            marker_ce9a8926708be5f4235f92b96553bff6.setIcon(icon_b9dabe46b1b2de8621e460e61c3be850);\n",
       "        \n",
       "    \n",
       "        var popup_b6a3df83d37d8a0a93f58c4dd8af18ad = L.popup({&quot;maxWidth&quot;: &quot;100%&quot;});\n",
       "\n",
       "        \n",
       "            \n",
       "                var html_8f7870463ae07d0cfdd6d63b246a9d7f = $(`&lt;div id=&quot;html_8f7870463ae07d0cfdd6d63b246a9d7f&quot; style=&quot;width: 100.0%; height: 100.0%;&quot;&gt;Commune: Avignon&lt;br&gt;Créations d&#x27;entreprises: 2063.0&lt;br&gt;Population: 92277.0&lt;/div&gt;`)[0];\n",
       "                popup_b6a3df83d37d8a0a93f58c4dd8af18ad.setContent(html_8f7870463ae07d0cfdd6d63b246a9d7f);\n",
       "            \n",
       "        \n",
       "\n",
       "        marker_ce9a8926708be5f4235f92b96553bff6.bindPopup(popup_b6a3df83d37d8a0a93f58c4dd8af18ad)\n",
       "        ;\n",
       "\n",
       "        \n",
       "    \n",
       "    \n",
       "            var marker_370acfaa2e7494c584559d4c45d506da = L.marker(\n",
       "                [43.4832523, -1.5592776],\n",
       "                {}\n",
       "            ).addTo(map_0a2d0386f468fa78fd2a30e59e790f65);\n",
       "        \n",
       "    \n",
       "            var icon_bbb295dc773cf0d9b5999ed8f02fff7b = L.AwesomeMarkers.icon(\n",
       "                {&quot;extraClasses&quot;: &quot;fa-rotate-0&quot;, &quot;icon&quot;: &quot;info-sign&quot;, &quot;iconColor&quot;: &quot;white&quot;, &quot;markerColor&quot;: &quot;blue&quot;, &quot;prefix&quot;: &quot;glyphicon&quot;}\n",
       "            );\n",
       "            marker_370acfaa2e7494c584559d4c45d506da.setIcon(icon_bbb295dc773cf0d9b5999ed8f02fff7b);\n",
       "        \n",
       "    \n",
       "        var popup_b2c928b84ddafac1a9ed3d4d1293811b = L.popup({&quot;maxWidth&quot;: &quot;100%&quot;});\n",
       "\n",
       "        \n",
       "            \n",
       "                var html_5f971c27d66713adbd7e1199e459f1ed = $(`&lt;div id=&quot;html_5f971c27d66713adbd7e1199e459f1ed&quot; style=&quot;width: 100.0%; height: 100.0%;&quot;&gt;Commune: Biarritz&lt;br&gt;Créations d&#x27;entreprises: 725.0&lt;br&gt;Population: 26583.0&lt;/div&gt;`)[0];\n",
       "                popup_b2c928b84ddafac1a9ed3d4d1293811b.setContent(html_5f971c27d66713adbd7e1199e459f1ed);\n",
       "            \n",
       "        \n",
       "\n",
       "        marker_370acfaa2e7494c584559d4c45d506da.bindPopup(popup_b2c928b84ddafac1a9ed3d4d1293811b)\n",
       "        ;\n",
       "\n",
       "        \n",
       "    \n",
       "    \n",
       "            var marker_608ba275fcce1d25737e215e274e670c = L.marker(\n",
       "                [48.584614, 7.7507127],\n",
       "                {}\n",
       "            ).addTo(map_0a2d0386f468fa78fd2a30e59e790f65);\n",
       "        \n",
       "    \n",
       "            var icon_2a12749b3b90c8c2e737392743d7c7c5 = L.AwesomeMarkers.icon(\n",
       "                {&quot;extraClasses&quot;: &quot;fa-rotate-0&quot;, &quot;icon&quot;: &quot;info-sign&quot;, &quot;iconColor&quot;: &quot;white&quot;, &quot;markerColor&quot;: &quot;blue&quot;, &quot;prefix&quot;: &quot;glyphicon&quot;}\n",
       "            );\n",
       "            marker_608ba275fcce1d25737e215e274e670c.setIcon(icon_2a12749b3b90c8c2e737392743d7c7c5);\n",
       "        \n",
       "    \n",
       "        var popup_83697926776e9d08272412406a18ef88 = L.popup({&quot;maxWidth&quot;: &quot;100%&quot;});\n",
       "\n",
       "        \n",
       "            \n",
       "                var html_41ed7af3d6f1535e340089dd1bded0a7 = $(`&lt;div id=&quot;html_41ed7af3d6f1535e340089dd1bded0a7&quot; style=&quot;width: 100.0%; height: 100.0%;&quot;&gt;Commune: Strasbourg&lt;br&gt;Créations d&#x27;entreprises: 5551.0&lt;br&gt;Population: 293538.0&lt;/div&gt;`)[0];\n",
       "                popup_83697926776e9d08272412406a18ef88.setContent(html_41ed7af3d6f1535e340089dd1bded0a7);\n",
       "            \n",
       "        \n",
       "\n",
       "        marker_608ba275fcce1d25737e215e274e670c.bindPopup(popup_83697926776e9d08272412406a18ef88)\n",
       "        ;\n",
       "\n",
       "        \n",
       "    \n",
       "    \n",
       "            var marker_0e40559adeae5f80f9634eb3a87ec181 = L.marker(\n",
       "                [49.8941708, 2.2956951],\n",
       "                {}\n",
       "            ).addTo(map_0a2d0386f468fa78fd2a30e59e790f65);\n",
       "        \n",
       "    \n",
       "            var icon_ae780853c8fb0ac681afa017e4195f37 = L.AwesomeMarkers.icon(\n",
       "                {&quot;extraClasses&quot;: &quot;fa-rotate-0&quot;, &quot;icon&quot;: &quot;info-sign&quot;, &quot;iconColor&quot;: &quot;white&quot;, &quot;markerColor&quot;: &quot;blue&quot;, &quot;prefix&quot;: &quot;glyphicon&quot;}\n",
       "            );\n",
       "            marker_0e40559adeae5f80f9634eb3a87ec181.setIcon(icon_ae780853c8fb0ac681afa017e4195f37);\n",
       "        \n",
       "    \n",
       "        var popup_541cc37e0f6c5948ceebc12c66d989de = L.popup({&quot;maxWidth&quot;: &quot;100%&quot;});\n",
       "\n",
       "        \n",
       "            \n",
       "                var html_da447d11041b0f2cd9f713910e333cde = $(`&lt;div id=&quot;html_da447d11041b0f2cd9f713910e333cde&quot; style=&quot;width: 100.0%; height: 100.0%;&quot;&gt;Commune: Amiens&lt;br&gt;Créations d&#x27;entreprises: 2010.0&lt;br&gt;Population: 136808.0&lt;/div&gt;`)[0];\n",
       "                popup_541cc37e0f6c5948ceebc12c66d989de.setContent(html_da447d11041b0f2cd9f713910e333cde);\n",
       "            \n",
       "        \n",
       "\n",
       "        marker_0e40559adeae5f80f9634eb3a87ec181.bindPopup(popup_541cc37e0f6c5948ceebc12c66d989de)\n",
       "        ;\n",
       "\n",
       "        \n",
       "    \n",
       "    \n",
       "            var marker_7425084b6bcd11580f0ba7c3310c627a = L.marker(\n",
       "                [48.2971626, 4.0746257],\n",
       "                {}\n",
       "            ).addTo(map_0a2d0386f468fa78fd2a30e59e790f65);\n",
       "        \n",
       "    \n",
       "            var icon_b8e07c093abe3db1fc782c5ea6a5a7f1 = L.AwesomeMarkers.icon(\n",
       "                {&quot;extraClasses&quot;: &quot;fa-rotate-0&quot;, &quot;icon&quot;: &quot;info-sign&quot;, &quot;iconColor&quot;: &quot;white&quot;, &quot;markerColor&quot;: &quot;blue&quot;, &quot;prefix&quot;: &quot;glyphicon&quot;}\n",
       "            );\n",
       "            marker_7425084b6bcd11580f0ba7c3310c627a.setIcon(icon_b8e07c093abe3db1fc782c5ea6a5a7f1);\n",
       "        \n",
       "    \n",
       "        var popup_0b6e2f9d423606d014011b14336b8007 = L.popup({&quot;maxWidth&quot;: &quot;100%&quot;});\n",
       "\n",
       "        \n",
       "            \n",
       "                var html_7dca9fa8732259baa9e76d1510c642fb = $(`&lt;div id=&quot;html_7dca9fa8732259baa9e76d1510c642fb&quot; style=&quot;width: 100.0%; height: 100.0%;&quot;&gt;Commune: Troyes&lt;br&gt;Créations d&#x27;entreprises: 938.0&lt;br&gt;Population: 63708.0&lt;/div&gt;`)[0];\n",
       "                popup_0b6e2f9d423606d014011b14336b8007.setContent(html_7dca9fa8732259baa9e76d1510c642fb);\n",
       "            \n",
       "        \n",
       "\n",
       "        marker_7425084b6bcd11580f0ba7c3310c627a.bindPopup(popup_0b6e2f9d423606d014011b14336b8007)\n",
       "        ;\n",
       "\n",
       "        \n",
       "    \n",
       "    \n",
       "            var marker_d59509b356a1e9178754f6179341df16 = L.marker(\n",
       "                [45.7774551, 3.0819427],\n",
       "                {}\n",
       "            ).addTo(map_0a2d0386f468fa78fd2a30e59e790f65);\n",
       "        \n",
       "    \n",
       "            var icon_8ffd99e3eb427dca1a7032110def2a39 = L.AwesomeMarkers.icon(\n",
       "                {&quot;extraClasses&quot;: &quot;fa-rotate-0&quot;, &quot;icon&quot;: &quot;info-sign&quot;, &quot;iconColor&quot;: &quot;white&quot;, &quot;markerColor&quot;: &quot;blue&quot;, &quot;prefix&quot;: &quot;glyphicon&quot;}\n",
       "            );\n",
       "            marker_d59509b356a1e9178754f6179341df16.setIcon(icon_8ffd99e3eb427dca1a7032110def2a39);\n",
       "        \n",
       "    \n",
       "        var popup_bc9d59f4bff326dfcb86acf520359ddb = L.popup({&quot;maxWidth&quot;: &quot;100%&quot;});\n",
       "\n",
       "        \n",
       "            \n",
       "                var html_6ac8ef26c09212ac9faf586b2333e7a9 = $(`&lt;div id=&quot;html_6ac8ef26c09212ac9faf586b2333e7a9&quot; style=&quot;width: 100.0%; height: 100.0%;&quot;&gt;Commune: Clermont-Ferrand&lt;br&gt;Créations d&#x27;entreprises: 2416.0&lt;br&gt;Population: 149898.0&lt;/div&gt;`)[0];\n",
       "                popup_bc9d59f4bff326dfcb86acf520359ddb.setContent(html_6ac8ef26c09212ac9faf586b2333e7a9);\n",
       "            \n",
       "        \n",
       "\n",
       "        marker_d59509b356a1e9178754f6179341df16.bindPopup(popup_bc9d59f4bff326dfcb86acf520359ddb)\n",
       "        ;\n",
       "\n",
       "        \n",
       "    \n",
       "    \n",
       "            var marker_bea8de6921c8c8f30683e78b7ba40c5a = L.marker(\n",
       "                [45.7701426, 4.8297127],\n",
       "                {}\n",
       "            ).addTo(map_0a2d0386f468fa78fd2a30e59e790f65);\n",
       "        \n",
       "    \n",
       "            var icon_d54c7f1d46f627dac73da5d26b18304d = L.AwesomeMarkers.icon(\n",
       "                {&quot;extraClasses&quot;: &quot;fa-rotate-0&quot;, &quot;icon&quot;: &quot;info-sign&quot;, &quot;iconColor&quot;: &quot;white&quot;, &quot;markerColor&quot;: &quot;blue&quot;, &quot;prefix&quot;: &quot;glyphicon&quot;}\n",
       "            );\n",
       "            marker_bea8de6921c8c8f30683e78b7ba40c5a.setIcon(icon_d54c7f1d46f627dac73da5d26b18304d);\n",
       "        \n",
       "    \n",
       "        var popup_66ed2f3b435cd5edc60571a575508a76 = L.popup({&quot;maxWidth&quot;: &quot;100%&quot;});\n",
       "\n",
       "        \n",
       "            \n",
       "                var html_08c107eff9b7de9870be4635435b6d07 = $(`&lt;div id=&quot;html_08c107eff9b7de9870be4635435b6d07&quot; style=&quot;width: 100.0%; height: 100.0%;&quot;&gt;Commune: Lyon 1er Arrondissement&lt;br&gt;Créations d&#x27;entreprises: 1294.0&lt;br&gt;Population: 30108.0&lt;/div&gt;`)[0];\n",
       "                popup_66ed2f3b435cd5edc60571a575508a76.setContent(html_08c107eff9b7de9870be4635435b6d07);\n",
       "            \n",
       "        \n",
       "\n",
       "        marker_bea8de6921c8c8f30683e78b7ba40c5a.bindPopup(popup_66ed2f3b435cd5edc60571a575508a76)\n",
       "        ;\n",
       "\n",
       "        \n",
       "    \n",
       "    \n",
       "            var marker_b90022c22389e0ced8acdcd9143a6c39 = L.marker(\n",
       "                [43.8374249, 4.3600687],\n",
       "                {}\n",
       "            ).addTo(map_0a2d0386f468fa78fd2a30e59e790f65);\n",
       "        \n",
       "    \n",
       "            var icon_c54138e7296d9111050eb267759a6440 = L.AwesomeMarkers.icon(\n",
       "                {&quot;extraClasses&quot;: &quot;fa-rotate-0&quot;, &quot;icon&quot;: &quot;info-sign&quot;, &quot;iconColor&quot;: &quot;white&quot;, &quot;markerColor&quot;: &quot;blue&quot;, &quot;prefix&quot;: &quot;glyphicon&quot;}\n",
       "            );\n",
       "            marker_b90022c22389e0ced8acdcd9143a6c39.setIcon(icon_c54138e7296d9111050eb267759a6440);\n",
       "        \n",
       "    \n",
       "        var popup_8919e1d5cd8e56b2c2fb6b06b70d4e1d = L.popup({&quot;maxWidth&quot;: &quot;100%&quot;});\n",
       "\n",
       "        \n",
       "            \n",
       "                var html_3e12a8c0b4f40eed3d04cd2567e066de = $(`&lt;div id=&quot;html_3e12a8c0b4f40eed3d04cd2567e066de&quot; style=&quot;width: 100.0%; height: 100.0%;&quot;&gt;Commune: Nîmes&lt;br&gt;Créations d&#x27;entreprises: 9662.0&lt;br&gt;Population: 149761.0&lt;/div&gt;`)[0];\n",
       "                popup_8919e1d5cd8e56b2c2fb6b06b70d4e1d.setContent(html_3e12a8c0b4f40eed3d04cd2567e066de);\n",
       "            \n",
       "        \n",
       "\n",
       "        marker_b90022c22389e0ced8acdcd9143a6c39.bindPopup(popup_8919e1d5cd8e56b2c2fb6b06b70d4e1d)\n",
       "        ;\n",
       "\n",
       "        \n",
       "    \n",
       "    \n",
       "            var marker_49f3757477a04734f44b590ca77118e3 = L.marker(\n",
       "                [48.8646144, 2.334396],\n",
       "                {}\n",
       "            ).addTo(map_0a2d0386f468fa78fd2a30e59e790f65);\n",
       "        \n",
       "    \n",
       "            var icon_cc342c4670b3892d53b40f75071b0bd7 = L.AwesomeMarkers.icon(\n",
       "                {&quot;extraClasses&quot;: &quot;fa-rotate-0&quot;, &quot;icon&quot;: &quot;info-sign&quot;, &quot;iconColor&quot;: &quot;white&quot;, &quot;markerColor&quot;: &quot;blue&quot;, &quot;prefix&quot;: &quot;glyphicon&quot;}\n",
       "            );\n",
       "            marker_49f3757477a04734f44b590ca77118e3.setIcon(icon_cc342c4670b3892d53b40f75071b0bd7);\n",
       "        \n",
       "    \n",
       "        var popup_2c8141ef578846eabac4ac034bd9611c = L.popup({&quot;maxWidth&quot;: &quot;100%&quot;});\n",
       "\n",
       "        \n",
       "            \n",
       "                var html_f242ca4d1ef0a462d2e3246017dca2d4 = $(`&lt;div id=&quot;html_f242ca4d1ef0a462d2e3246017dca2d4&quot; style=&quot;width: 100.0%; height: 100.0%;&quot;&gt;Commune: Paris 1er Arrondissement&lt;br&gt;Créations d&#x27;entreprises: 3764.0&lt;br&gt;Population: 16149.0&lt;/div&gt;`)[0];\n",
       "                popup_2c8141ef578846eabac4ac034bd9611c.setContent(html_f242ca4d1ef0a462d2e3246017dca2d4);\n",
       "            \n",
       "        \n",
       "\n",
       "        marker_49f3757477a04734f44b590ca77118e3.bindPopup(popup_2c8141ef578846eabac4ac034bd9611c)\n",
       "        ;\n",
       "\n",
       "        \n",
       "    \n",
       "&lt;/script&gt;\n",
       "&lt;/html&gt;\" style=\"position:absolute;width:100%;height:100%;left:0;top:0;border:none !important;\" allowfullscreen webkitallowfullscreen mozallowfullscreen></iframe></div></div>"
      ],
      "text/plain": [
       "<folium.folium.Map at 0x1faba802790>"
      ]
     },
     "execution_count": 36,
     "metadata": {},
     "output_type": "execute_result"
    }
   ],
   "source": [
    "import pandas as pd\n",
    "import requests\n",
    "import folium\n",
    "\n",
    "# Données mises à jour\n",
    "data = {\n",
    "    'Nom de la commune': ['Lille', 'Avignon', 'Biarritz', 'Strasbourg', 'Amiens', 'Troyes', 'Clermont-Ferrand','Lyon 1er Arrondissement', 'Nîmes','Paris 1er Arrondissement'],\n",
    "    'Crea_Ent_2022': [6147, 2063, 725, 5551, 2010, 938, 2416, 1294, 9662, 3764],  # Remplacez par des valeurs estimées\n",
    "    'Population': [238104, 92277, 26583, 293538, 136808, 63708, 149898, 30108, 149761, 16149]\n",
    "}\n",
    "\n",
    "# Créer un DataFrame\n",
    "POP_CreationEntrp1 = pd.DataFrame(data)\n",
    "POP_CreationEntrp1.set_index('Nom de la commune', inplace=True)\n",
    "\n",
    "# Votre clé API OpenCage\n",
    "api_key = '743401a948af4e97927c11c46e9e6da5'\n",
    "\n",
    "# Fonction pour obtenir latitude et longitude en utilisant OpenCage API\n",
    "def get_coordinates(commune):\n",
    "    url = 'https://api.opencagedata.com/geocode/v1/json'\n",
    "    params = {\n",
    "        'q': commune + \", France\",  # Ajout du pays pour plus de précision\n",
    "        'key': api_key,\n",
    "        'limit': 1  # Limite les résultats à un seul\n",
    "    }\n",
    "    response = requests.get(url, params=params)\n",
    "    \n",
    "    if response.status_code == 200:\n",
    "        data = response.json()\n",
    "        if data['results']:\n",
    "            # Extraire la latitude et la longitude\n",
    "            lat = data['results'][0]['geometry']['lat']\n",
    "            lng = data['results'][0]['geometry']['lng']\n",
    "            return lat, lng\n",
    "        else:\n",
    "            return None, None\n",
    "    else:\n",
    "        print(f\"Erreur {response.status_code}: {response.text}\")\n",
    "        return None, None\n",
    "\n",
    "# Transformer l'index en Series pour appliquer la fonction\n",
    "coordinates = POP_CreationEntrp1.index.to_series().map(get_coordinates)\n",
    "\n",
    "# Séparer les coordonnées en deux colonnes\n",
    "POP_CreationEntrp1[['latitude', 'longitude']] = pd.DataFrame(coordinates.tolist(), index=POP_CreationEntrp1.index)\n",
    "\n",
    "# Créer la carte centrée sur la France\n",
    "m = folium.Map(location=[46.603354, 1.888334], zoom_start=6)\n",
    "\n",
    "# Ajoute des marqueurs pour chaque commune\n",
    "for commune, row in POP_CreationEntrp1.iterrows():\n",
    "    if row['latitude'] and row['longitude']:  # Vérifier si les coordonnées sont valides\n",
    "        folium.Marker(\n",
    "            location=[row['latitude'], row['longitude']],\n",
    "            popup = f\"Commune: {commune}<br>Créations d'entreprises: {row['Crea_Ent_2022']}<br>Population: {row['Population']}\",\n",
    "            icon=folium.Icon(color='blue', icon='info-sign')\n",
    "        ).add_to(m)\n",
    "\n",
    "# Affiche la carte\n",
    "m\n",
    "\n"
   ]
  },
  {
   "cell_type": "markdown",
   "id": "854255f8-3377-4ca6-b646-5777648827e7",
   "metadata": {},
   "source": [
    "### 3. Taux de création d’entreprises par habitant"
   ]
  },
  {
   "cell_type": "code",
   "execution_count": 25,
   "id": "967d4860-a90e-4044-a252-8a677aec15a3",
   "metadata": {},
   "outputs": [],
   "source": [
    "# Calcul du taux de création d'entreprises en termes de nombre d'entreprises créées pour 1 000 habitants. \n",
    "POP_CreationEntrp['taux_creation'] = (POP_CreationEntrp[\"Créations d'entr. En 2022\"] / POP_CreationEntrp['Population']) * 1000\n"
   ]
  },
  {
   "cell_type": "code",
   "execution_count": 26,
   "id": "2decf3b4-b7b7-4a39-8c46-da9187dae29c",
   "metadata": {
    "scrolled": true
   },
   "outputs": [
    {
     "data": {
      "text/html": [
       "<div>\n",
       "<style scoped>\n",
       "    .dataframe tbody tr th:only-of-type {\n",
       "        vertical-align: middle;\n",
       "    }\n",
       "\n",
       "    .dataframe tbody tr th {\n",
       "        vertical-align: top;\n",
       "    }\n",
       "\n",
       "    .dataframe thead th {\n",
       "        text-align: right;\n",
       "    }\n",
       "</style>\n",
       "<table border=\"1\" class=\"dataframe\">\n",
       "  <thead>\n",
       "    <tr style=\"text-align: right;\">\n",
       "      <th></th>\n",
       "      <th>Libellé commune ou ARM</th>\n",
       "      <th>Créations d'entr. En 2022</th>\n",
       "      <th>Population</th>\n",
       "      <th>taux_creation</th>\n",
       "    </tr>\n",
       "  </thead>\n",
       "  <tbody>\n",
       "    <tr>\n",
       "      <th>0</th>\n",
       "      <td>L'Abergement-Clémenciat</td>\n",
       "      <td>17</td>\n",
       "      <td>821</td>\n",
       "      <td>20.706456</td>\n",
       "    </tr>\n",
       "    <tr>\n",
       "      <th>1</th>\n",
       "      <td>L'Abergement-de-Varey</td>\n",
       "      <td>3</td>\n",
       "      <td>268</td>\n",
       "      <td>11.194030</td>\n",
       "    </tr>\n",
       "    <tr>\n",
       "      <th>2</th>\n",
       "      <td>Ambérieu-en-Bugey</td>\n",
       "      <td>218</td>\n",
       "      <td>14662</td>\n",
       "      <td>14.868367</td>\n",
       "    </tr>\n",
       "    <tr>\n",
       "      <th>3</th>\n",
       "      <td>Ambérieux-en-Dombes</td>\n",
       "      <td>32</td>\n",
       "      <td>1806</td>\n",
       "      <td>17.718715</td>\n",
       "    </tr>\n",
       "    <tr>\n",
       "      <th>4</th>\n",
       "      <td>Ambléon</td>\n",
       "      <td>2</td>\n",
       "      <td>113</td>\n",
       "      <td>17.699115</td>\n",
       "    </tr>\n",
       "  </tbody>\n",
       "</table>\n",
       "</div>"
      ],
      "text/plain": [
       "    Libellé commune ou ARM  Créations d'entr. En 2022  Population  \\\n",
       "0  L'Abergement-Clémenciat                         17         821   \n",
       "1    L'Abergement-de-Varey                          3         268   \n",
       "2        Ambérieu-en-Bugey                        218       14662   \n",
       "3      Ambérieux-en-Dombes                         32        1806   \n",
       "4                  Ambléon                          2         113   \n",
       "\n",
       "   taux_creation  \n",
       "0      20.706456  \n",
       "1      11.194030  \n",
       "2      14.868367  \n",
       "3      17.718715  \n",
       "4      17.699115  "
      ]
     },
     "execution_count": 26,
     "metadata": {},
     "output_type": "execute_result"
    }
   ],
   "source": [
    "POP_CreationEntrp.head()"
   ]
  },
  {
   "cell_type": "markdown",
   "id": "b5e1afc9-b09d-417e-831d-1c053f186353",
   "metadata": {},
   "source": [
    "* nous avons choisi d'utiliser la nuages de points pour visualiser les données de création d'entreprises et de population, identifier des tendances  et offrir des fonctionnalités interactives qui facilitent la compréhension des données sans surcharge visuelle. "
   ]
  },
  {
   "cell_type": "code",
   "execution_count": 35,
   "id": "aeeedd0f-ffef-4656-ad8e-20f8edc0956d",
   "metadata": {},
   "outputs": [
    {
     "data": {
      "application/vnd.plotly.v1+json": {
       "config": {
        "plotlyServerURL": "https://plot.ly"
       },
       "data": [
        {
         "customdata": [
          [
           "Autechaux"
          ]
         ],
         "hovertemplate": "Commune=%{customdata[0]}<br>Population=%{marker.size}<br>taux_creation=%{y}<extra></extra>",
         "legendgroup": "Autechaux",
         "marker": {
          "color": "#636efa",
          "size": [
           437
          ],
          "sizemode": "area",
          "sizeref": 23.895,
          "symbol": "circle"
         },
         "mode": "markers",
         "name": "Autechaux",
         "orientation": "v",
         "showlegend": true,
         "type": "scatter",
         "x": [
          437
         ],
         "xaxis": "x",
         "y": [
          13.729977116704804
         ],
         "yaxis": "y"
        },
        {
         "customdata": [
          [
           "Saint-Maurice-de-Gourdans"
          ]
         ],
         "hovertemplate": "Commune=%{customdata[0]}<br>Population=%{marker.size}<br>taux_creation=%{y}<extra></extra>",
         "legendgroup": "Saint-Maurice-de-Gourdans",
         "marker": {
          "color": "#EF553B",
          "size": [
           2755
          ],
          "sizemode": "area",
          "sizeref": 23.895,
          "symbol": "circle"
         },
         "mode": "markers",
         "name": "Saint-Maurice-de-Gourdans",
         "orientation": "v",
         "showlegend": true,
         "type": "scatter",
         "x": [
          2755
         ],
         "xaxis": "x",
         "y": [
          11.615245009074409
         ],
         "yaxis": "y"
        },
        {
         "customdata": [
          [
           "Berlancourt"
          ]
         ],
         "hovertemplate": "Commune=%{customdata[0]}<br>Population=%{marker.size}<br>taux_creation=%{y}<extra></extra>",
         "legendgroup": "Berlancourt",
         "marker": {
          "color": "#00cc96",
          "size": [
           90
          ],
          "sizemode": "area",
          "sizeref": 23.895,
          "symbol": "circle"
         },
         "mode": "markers",
         "name": "Berlancourt",
         "orientation": "v",
         "showlegend": true,
         "type": "scatter",
         "x": [
          90
         ],
         "xaxis": "x",
         "y": [
          0
         ],
         "yaxis": "y"
        },
        {
         "customdata": [
          [
           "Villebon"
          ]
         ],
         "hovertemplate": "Commune=%{customdata[0]}<br>Population=%{marker.size}<br>taux_creation=%{y}<extra></extra>",
         "legendgroup": "Villebon",
         "marker": {
          "color": "#ab63fa",
          "size": [
           64
          ],
          "sizemode": "area",
          "sizeref": 23.895,
          "symbol": "circle"
         },
         "mode": "markers",
         "name": "Villebon",
         "orientation": "v",
         "showlegend": true,
         "type": "scatter",
         "x": [
          64
         ],
         "xaxis": "x",
         "y": [
          15.625
         ],
         "yaxis": "y"
        },
        {
         "customdata": [
          [
           "Bully"
          ]
         ],
         "hovertemplate": "Commune=%{customdata[0]}<br>Population=%{marker.size}<br>taux_creation=%{y}<extra></extra>",
         "legendgroup": "Bully",
         "marker": {
          "color": "#FFA15A",
          "size": [
           406
          ],
          "sizemode": "area",
          "sizeref": 23.895,
          "symbol": "circle"
         },
         "mode": "markers",
         "name": "Bully",
         "orientation": "v",
         "showlegend": true,
         "type": "scatter",
         "x": [
          406
         ],
         "xaxis": "x",
         "y": [
          73.89162561576356
         ],
         "yaxis": "y"
        },
        {
         "customdata": [
          [
           "Port-la-Nouvelle"
          ]
         ],
         "hovertemplate": "Commune=%{customdata[0]}<br>Population=%{marker.size}<br>taux_creation=%{y}<extra></extra>",
         "legendgroup": "Port-la-Nouvelle",
         "marker": {
          "color": "#19d3f3",
          "size": [
           5975
          ],
          "sizemode": "area",
          "sizeref": 23.895,
          "symbol": "circle"
         },
         "mode": "markers",
         "name": "Port-la-Nouvelle",
         "orientation": "v",
         "showlegend": true,
         "type": "scatter",
         "x": [
          5975
         ],
         "xaxis": "x",
         "y": [
          13.556485355648535
         ],
         "yaxis": "y"
        },
        {
         "customdata": [
          [
           "Maussane-les-Alpilles"
          ]
         ],
         "hovertemplate": "Commune=%{customdata[0]}<br>Population=%{marker.size}<br>taux_creation=%{y}<extra></extra>",
         "legendgroup": "Maussane-les-Alpilles",
         "marker": {
          "color": "#FF6692",
          "size": [
           2445
          ],
          "sizemode": "area",
          "sizeref": 23.895,
          "symbol": "circle"
         },
         "mode": "markers",
         "name": "Maussane-les-Alpilles",
         "orientation": "v",
         "showlegend": true,
         "type": "scatter",
         "x": [
          2445
         ],
         "xaxis": "x",
         "y": [
          26.175869120654397
         ],
         "yaxis": "y"
        },
        {
         "customdata": [
          [
           "Briosne-lès-Sables"
          ]
         ],
         "hovertemplate": "Commune=%{customdata[0]}<br>Population=%{marker.size}<br>taux_creation=%{y}<extra></extra>",
         "legendgroup": "Briosne-lès-Sables",
         "marker": {
          "color": "#B6E880",
          "size": [
           527
          ],
          "sizemode": "area",
          "sizeref": 23.895,
          "symbol": "circle"
         },
         "mode": "markers",
         "name": "Briosne-lès-Sables",
         "orientation": "v",
         "showlegend": true,
         "type": "scatter",
         "x": [
          527
         ],
         "xaxis": "x",
         "y": [
          5.692599620493358
         ],
         "yaxis": "y"
        },
        {
         "customdata": [
          [
           "Ouistreham"
          ]
         ],
         "hovertemplate": "Commune=%{customdata[0]}<br>Population=%{marker.size}<br>taux_creation=%{y}<extra></extra>",
         "legendgroup": "Ouistreham",
         "marker": {
          "color": "#FF97FF",
          "size": [
           9558
          ],
          "sizemode": "area",
          "sizeref": 23.895,
          "symbol": "circle"
         },
         "mode": "markers",
         "name": "Ouistreham",
         "orientation": "v",
         "showlegend": true,
         "type": "scatter",
         "x": [
          9558
         ],
         "xaxis": "x",
         "y": [
          12.450303410755387
         ],
         "yaxis": "y"
        },
        {
         "customdata": [
          [
           "Champtonnay"
          ]
         ],
         "hovertemplate": "Commune=%{customdata[0]}<br>Population=%{marker.size}<br>taux_creation=%{y}<extra></extra>",
         "legendgroup": "Champtonnay",
         "marker": {
          "color": "#FECB52",
          "size": [
           88
          ],
          "sizemode": "area",
          "sizeref": 23.895,
          "symbol": "circle"
         },
         "mode": "markers",
         "name": "Champtonnay",
         "orientation": "v",
         "showlegend": true,
         "type": "scatter",
         "x": [
          88
         ],
         "xaxis": "x",
         "y": [
          11.363636363636363
         ],
         "yaxis": "y"
        },
        {
         "customdata": [
          [
           "Villerserine"
          ]
         ],
         "hovertemplate": "Commune=%{customdata[0]}<br>Population=%{marker.size}<br>taux_creation=%{y}<extra></extra>",
         "legendgroup": "Villerserine",
         "marker": {
          "color": "#636efa",
          "size": [
           40
          ],
          "sizemode": "area",
          "sizeref": 23.895,
          "symbol": "circle"
         },
         "mode": "markers",
         "name": "Villerserine",
         "orientation": "v",
         "showlegend": true,
         "type": "scatter",
         "x": [
          40
         ],
         "xaxis": "x",
         "y": [
          0
         ],
         "yaxis": "y"
        },
        {
         "customdata": [
          [
           "Us"
          ]
         ],
         "hovertemplate": "Commune=%{customdata[0]}<br>Population=%{marker.size}<br>taux_creation=%{y}<extra></extra>",
         "legendgroup": "Us",
         "marker": {
          "color": "#EF553B",
          "size": [
           1350
          ],
          "sizemode": "area",
          "sizeref": 23.895,
          "symbol": "circle"
         },
         "mode": "markers",
         "name": "Us",
         "orientation": "v",
         "showlegend": true,
         "type": "scatter",
         "x": [
          1350
         ],
         "xaxis": "x",
         "y": [
          14.814814814814815
         ],
         "yaxis": "y"
        },
        {
         "customdata": [
          [
           "Piencourt"
          ]
         ],
         "hovertemplate": "Commune=%{customdata[0]}<br>Population=%{marker.size}<br>taux_creation=%{y}<extra></extra>",
         "legendgroup": "Piencourt",
         "marker": {
          "color": "#00cc96",
          "size": [
           169
          ],
          "sizemode": "area",
          "sizeref": 23.895,
          "symbol": "circle"
         },
         "mode": "markers",
         "name": "Piencourt",
         "orientation": "v",
         "showlegend": true,
         "type": "scatter",
         "x": [
          169
         ],
         "xaxis": "x",
         "y": [
          0
         ],
         "yaxis": "y"
        },
        {
         "customdata": [
          [
           "Villard-Bonnot"
          ]
         ],
         "hovertemplate": "Commune=%{customdata[0]}<br>Population=%{marker.size}<br>taux_creation=%{y}<extra></extra>",
         "legendgroup": "Villard-Bonnot",
         "marker": {
          "color": "#ab63fa",
          "size": [
           7431
          ],
          "sizemode": "area",
          "sizeref": 23.895,
          "symbol": "circle"
         },
         "mode": "markers",
         "name": "Villard-Bonnot",
         "orientation": "v",
         "showlegend": true,
         "type": "scatter",
         "x": [
          7431
         ],
         "xaxis": "x",
         "y": [
          12.111425111021397
         ],
         "yaxis": "y"
        },
        {
         "customdata": [
          [
           "Villacourt"
          ]
         ],
         "hovertemplate": "Commune=%{customdata[0]}<br>Population=%{marker.size}<br>taux_creation=%{y}<extra></extra>",
         "legendgroup": "Villacourt",
         "marker": {
          "color": "#FFA15A",
          "size": [
           367
          ],
          "sizemode": "area",
          "sizeref": 23.895,
          "symbol": "circle"
         },
         "mode": "markers",
         "name": "Villacourt",
         "orientation": "v",
         "showlegend": true,
         "type": "scatter",
         "x": [
          367
         ],
         "xaxis": "x",
         "y": [
          5.449591280653951
         ],
         "yaxis": "y"
        },
        {
         "customdata": [
          [
           "Taillades"
          ]
         ],
         "hovertemplate": "Commune=%{customdata[0]}<br>Population=%{marker.size}<br>taux_creation=%{y}<extra></extra>",
         "legendgroup": "Taillades",
         "marker": {
          "color": "#19d3f3",
          "size": [
           1957
          ],
          "sizemode": "area",
          "sizeref": 23.895,
          "symbol": "circle"
         },
         "mode": "markers",
         "name": "Taillades",
         "orientation": "v",
         "showlegend": true,
         "type": "scatter",
         "x": [
          1957
         ],
         "xaxis": "x",
         "y": [
          21.972406745017885
         ],
         "yaxis": "y"
        },
        {
         "customdata": [
          [
           "Roupeldange"
          ]
         ],
         "hovertemplate": "Commune=%{customdata[0]}<br>Population=%{marker.size}<br>taux_creation=%{y}<extra></extra>",
         "legendgroup": "Roupeldange",
         "marker": {
          "color": "#FF6692",
          "size": [
           369
          ],
          "sizemode": "area",
          "sizeref": 23.895,
          "symbol": "circle"
         },
         "mode": "markers",
         "name": "Roupeldange",
         "orientation": "v",
         "showlegend": true,
         "type": "scatter",
         "x": [
          369
         ],
         "xaxis": "x",
         "y": [
          2.710027100271003
         ],
         "yaxis": "y"
        },
        {
         "customdata": [
          [
           "Treize-Septiers"
          ]
         ],
         "hovertemplate": "Commune=%{customdata[0]}<br>Population=%{marker.size}<br>taux_creation=%{y}<extra></extra>",
         "legendgroup": "Treize-Septiers",
         "marker": {
          "color": "#B6E880",
          "size": [
           3362
          ],
          "sizemode": "area",
          "sizeref": 23.895,
          "symbol": "circle"
         },
         "mode": "markers",
         "name": "Treize-Septiers",
         "orientation": "v",
         "showlegend": true,
         "type": "scatter",
         "x": [
          3362
         ],
         "xaxis": "x",
         "y": [
          8.328375966686496
         ],
         "yaxis": "y"
        },
        {
         "customdata": [
          [
           "Mary"
          ]
         ],
         "hovertemplate": "Commune=%{customdata[0]}<br>Population=%{marker.size}<br>taux_creation=%{y}<extra></extra>",
         "legendgroup": "Mary",
         "marker": {
          "color": "#FF97FF",
          "size": [
           274
          ],
          "sizemode": "area",
          "sizeref": 23.895,
          "symbol": "circle"
         },
         "mode": "markers",
         "name": "Mary",
         "orientation": "v",
         "showlegend": true,
         "type": "scatter",
         "x": [
          274
         ],
         "xaxis": "x",
         "y": [
          14.598540145985401
         ],
         "yaxis": "y"
        },
        {
         "customdata": [
          [
           "Variscourt"
          ]
         ],
         "hovertemplate": "Commune=%{customdata[0]}<br>Population=%{marker.size}<br>taux_creation=%{y}<extra></extra>",
         "legendgroup": "Variscourt",
         "marker": {
          "color": "#FECB52",
          "size": [
           215
          ],
          "sizemode": "area",
          "sizeref": 23.895,
          "symbol": "circle"
         },
         "mode": "markers",
         "name": "Variscourt",
         "orientation": "v",
         "showlegend": true,
         "type": "scatter",
         "x": [
          215
         ],
         "xaxis": "x",
         "y": [
          9.30232558139535
         ],
         "yaxis": "y"
        }
       ],
       "layout": {
        "autosize": true,
        "dragmode": "zoom",
        "legend": {
         "itemsizing": "constant",
         "title": {
          "text": "Commune"
         },
         "tracegroupgap": 0
        },
        "template": {
         "data": {
          "bar": [
           {
            "error_x": {
             "color": "#2a3f5f"
            },
            "error_y": {
             "color": "#2a3f5f"
            },
            "marker": {
             "line": {
              "color": "#E5ECF6",
              "width": 0.5
             },
             "pattern": {
              "fillmode": "overlay",
              "size": 10,
              "solidity": 0.2
             }
            },
            "type": "bar"
           }
          ],
          "barpolar": [
           {
            "marker": {
             "line": {
              "color": "#E5ECF6",
              "width": 0.5
             },
             "pattern": {
              "fillmode": "overlay",
              "size": 10,
              "solidity": 0.2
             }
            },
            "type": "barpolar"
           }
          ],
          "carpet": [
           {
            "aaxis": {
             "endlinecolor": "#2a3f5f",
             "gridcolor": "white",
             "linecolor": "white",
             "minorgridcolor": "white",
             "startlinecolor": "#2a3f5f"
            },
            "baxis": {
             "endlinecolor": "#2a3f5f",
             "gridcolor": "white",
             "linecolor": "white",
             "minorgridcolor": "white",
             "startlinecolor": "#2a3f5f"
            },
            "type": "carpet"
           }
          ],
          "choropleth": [
           {
            "colorbar": {
             "outlinewidth": 0,
             "ticks": ""
            },
            "type": "choropleth"
           }
          ],
          "contour": [
           {
            "colorbar": {
             "outlinewidth": 0,
             "ticks": ""
            },
            "colorscale": [
             [
              0,
              "#0d0887"
             ],
             [
              0.1111111111111111,
              "#46039f"
             ],
             [
              0.2222222222222222,
              "#7201a8"
             ],
             [
              0.3333333333333333,
              "#9c179e"
             ],
             [
              0.4444444444444444,
              "#bd3786"
             ],
             [
              0.5555555555555556,
              "#d8576b"
             ],
             [
              0.6666666666666666,
              "#ed7953"
             ],
             [
              0.7777777777777778,
              "#fb9f3a"
             ],
             [
              0.8888888888888888,
              "#fdca26"
             ],
             [
              1,
              "#f0f921"
             ]
            ],
            "type": "contour"
           }
          ],
          "contourcarpet": [
           {
            "colorbar": {
             "outlinewidth": 0,
             "ticks": ""
            },
            "type": "contourcarpet"
           }
          ],
          "heatmap": [
           {
            "colorbar": {
             "outlinewidth": 0,
             "ticks": ""
            },
            "colorscale": [
             [
              0,
              "#0d0887"
             ],
             [
              0.1111111111111111,
              "#46039f"
             ],
             [
              0.2222222222222222,
              "#7201a8"
             ],
             [
              0.3333333333333333,
              "#9c179e"
             ],
             [
              0.4444444444444444,
              "#bd3786"
             ],
             [
              0.5555555555555556,
              "#d8576b"
             ],
             [
              0.6666666666666666,
              "#ed7953"
             ],
             [
              0.7777777777777778,
              "#fb9f3a"
             ],
             [
              0.8888888888888888,
              "#fdca26"
             ],
             [
              1,
              "#f0f921"
             ]
            ],
            "type": "heatmap"
           }
          ],
          "heatmapgl": [
           {
            "colorbar": {
             "outlinewidth": 0,
             "ticks": ""
            },
            "colorscale": [
             [
              0,
              "#0d0887"
             ],
             [
              0.1111111111111111,
              "#46039f"
             ],
             [
              0.2222222222222222,
              "#7201a8"
             ],
             [
              0.3333333333333333,
              "#9c179e"
             ],
             [
              0.4444444444444444,
              "#bd3786"
             ],
             [
              0.5555555555555556,
              "#d8576b"
             ],
             [
              0.6666666666666666,
              "#ed7953"
             ],
             [
              0.7777777777777778,
              "#fb9f3a"
             ],
             [
              0.8888888888888888,
              "#fdca26"
             ],
             [
              1,
              "#f0f921"
             ]
            ],
            "type": "heatmapgl"
           }
          ],
          "histogram": [
           {
            "marker": {
             "pattern": {
              "fillmode": "overlay",
              "size": 10,
              "solidity": 0.2
             }
            },
            "type": "histogram"
           }
          ],
          "histogram2d": [
           {
            "colorbar": {
             "outlinewidth": 0,
             "ticks": ""
            },
            "colorscale": [
             [
              0,
              "#0d0887"
             ],
             [
              0.1111111111111111,
              "#46039f"
             ],
             [
              0.2222222222222222,
              "#7201a8"
             ],
             [
              0.3333333333333333,
              "#9c179e"
             ],
             [
              0.4444444444444444,
              "#bd3786"
             ],
             [
              0.5555555555555556,
              "#d8576b"
             ],
             [
              0.6666666666666666,
              "#ed7953"
             ],
             [
              0.7777777777777778,
              "#fb9f3a"
             ],
             [
              0.8888888888888888,
              "#fdca26"
             ],
             [
              1,
              "#f0f921"
             ]
            ],
            "type": "histogram2d"
           }
          ],
          "histogram2dcontour": [
           {
            "colorbar": {
             "outlinewidth": 0,
             "ticks": ""
            },
            "colorscale": [
             [
              0,
              "#0d0887"
             ],
             [
              0.1111111111111111,
              "#46039f"
             ],
             [
              0.2222222222222222,
              "#7201a8"
             ],
             [
              0.3333333333333333,
              "#9c179e"
             ],
             [
              0.4444444444444444,
              "#bd3786"
             ],
             [
              0.5555555555555556,
              "#d8576b"
             ],
             [
              0.6666666666666666,
              "#ed7953"
             ],
             [
              0.7777777777777778,
              "#fb9f3a"
             ],
             [
              0.8888888888888888,
              "#fdca26"
             ],
             [
              1,
              "#f0f921"
             ]
            ],
            "type": "histogram2dcontour"
           }
          ],
          "mesh3d": [
           {
            "colorbar": {
             "outlinewidth": 0,
             "ticks": ""
            },
            "type": "mesh3d"
           }
          ],
          "parcoords": [
           {
            "line": {
             "colorbar": {
              "outlinewidth": 0,
              "ticks": ""
             }
            },
            "type": "parcoords"
           }
          ],
          "pie": [
           {
            "automargin": true,
            "type": "pie"
           }
          ],
          "scatter": [
           {
            "fillpattern": {
             "fillmode": "overlay",
             "size": 10,
             "solidity": 0.2
            },
            "type": "scatter"
           }
          ],
          "scatter3d": [
           {
            "line": {
             "colorbar": {
              "outlinewidth": 0,
              "ticks": ""
             }
            },
            "marker": {
             "colorbar": {
              "outlinewidth": 0,
              "ticks": ""
             }
            },
            "type": "scatter3d"
           }
          ],
          "scattercarpet": [
           {
            "marker": {
             "colorbar": {
              "outlinewidth": 0,
              "ticks": ""
             }
            },
            "type": "scattercarpet"
           }
          ],
          "scattergeo": [
           {
            "marker": {
             "colorbar": {
              "outlinewidth": 0,
              "ticks": ""
             }
            },
            "type": "scattergeo"
           }
          ],
          "scattergl": [
           {
            "marker": {
             "colorbar": {
              "outlinewidth": 0,
              "ticks": ""
             }
            },
            "type": "scattergl"
           }
          ],
          "scattermapbox": [
           {
            "marker": {
             "colorbar": {
              "outlinewidth": 0,
              "ticks": ""
             }
            },
            "type": "scattermapbox"
           }
          ],
          "scatterpolar": [
           {
            "marker": {
             "colorbar": {
              "outlinewidth": 0,
              "ticks": ""
             }
            },
            "type": "scatterpolar"
           }
          ],
          "scatterpolargl": [
           {
            "marker": {
             "colorbar": {
              "outlinewidth": 0,
              "ticks": ""
             }
            },
            "type": "scatterpolargl"
           }
          ],
          "scatterternary": [
           {
            "marker": {
             "colorbar": {
              "outlinewidth": 0,
              "ticks": ""
             }
            },
            "type": "scatterternary"
           }
          ],
          "surface": [
           {
            "colorbar": {
             "outlinewidth": 0,
             "ticks": ""
            },
            "colorscale": [
             [
              0,
              "#0d0887"
             ],
             [
              0.1111111111111111,
              "#46039f"
             ],
             [
              0.2222222222222222,
              "#7201a8"
             ],
             [
              0.3333333333333333,
              "#9c179e"
             ],
             [
              0.4444444444444444,
              "#bd3786"
             ],
             [
              0.5555555555555556,
              "#d8576b"
             ],
             [
              0.6666666666666666,
              "#ed7953"
             ],
             [
              0.7777777777777778,
              "#fb9f3a"
             ],
             [
              0.8888888888888888,
              "#fdca26"
             ],
             [
              1,
              "#f0f921"
             ]
            ],
            "type": "surface"
           }
          ],
          "table": [
           {
            "cells": {
             "fill": {
              "color": "#EBF0F8"
             },
             "line": {
              "color": "white"
             }
            },
            "header": {
             "fill": {
              "color": "#C8D4E3"
             },
             "line": {
              "color": "white"
             }
            },
            "type": "table"
           }
          ]
         },
         "layout": {
          "annotationdefaults": {
           "arrowcolor": "#2a3f5f",
           "arrowhead": 0,
           "arrowwidth": 1
          },
          "autotypenumbers": "strict",
          "coloraxis": {
           "colorbar": {
            "outlinewidth": 0,
            "ticks": ""
           }
          },
          "colorscale": {
           "diverging": [
            [
             0,
             "#8e0152"
            ],
            [
             0.1,
             "#c51b7d"
            ],
            [
             0.2,
             "#de77ae"
            ],
            [
             0.3,
             "#f1b6da"
            ],
            [
             0.4,
             "#fde0ef"
            ],
            [
             0.5,
             "#f7f7f7"
            ],
            [
             0.6,
             "#e6f5d0"
            ],
            [
             0.7,
             "#b8e186"
            ],
            [
             0.8,
             "#7fbc41"
            ],
            [
             0.9,
             "#4d9221"
            ],
            [
             1,
             "#276419"
            ]
           ],
           "sequential": [
            [
             0,
             "#0d0887"
            ],
            [
             0.1111111111111111,
             "#46039f"
            ],
            [
             0.2222222222222222,
             "#7201a8"
            ],
            [
             0.3333333333333333,
             "#9c179e"
            ],
            [
             0.4444444444444444,
             "#bd3786"
            ],
            [
             0.5555555555555556,
             "#d8576b"
            ],
            [
             0.6666666666666666,
             "#ed7953"
            ],
            [
             0.7777777777777778,
             "#fb9f3a"
            ],
            [
             0.8888888888888888,
             "#fdca26"
            ],
            [
             1,
             "#f0f921"
            ]
           ],
           "sequentialminus": [
            [
             0,
             "#0d0887"
            ],
            [
             0.1111111111111111,
             "#46039f"
            ],
            [
             0.2222222222222222,
             "#7201a8"
            ],
            [
             0.3333333333333333,
             "#9c179e"
            ],
            [
             0.4444444444444444,
             "#bd3786"
            ],
            [
             0.5555555555555556,
             "#d8576b"
            ],
            [
             0.6666666666666666,
             "#ed7953"
            ],
            [
             0.7777777777777778,
             "#fb9f3a"
            ],
            [
             0.8888888888888888,
             "#fdca26"
            ],
            [
             1,
             "#f0f921"
            ]
           ]
          },
          "colorway": [
           "#636efa",
           "#EF553B",
           "#00cc96",
           "#ab63fa",
           "#FFA15A",
           "#19d3f3",
           "#FF6692",
           "#B6E880",
           "#FF97FF",
           "#FECB52"
          ],
          "font": {
           "color": "#2a3f5f"
          },
          "geo": {
           "bgcolor": "white",
           "lakecolor": "white",
           "landcolor": "#E5ECF6",
           "showlakes": true,
           "showland": true,
           "subunitcolor": "white"
          },
          "hoverlabel": {
           "align": "left"
          },
          "hovermode": "closest",
          "mapbox": {
           "style": "light"
          },
          "paper_bgcolor": "white",
          "plot_bgcolor": "#E5ECF6",
          "polar": {
           "angularaxis": {
            "gridcolor": "white",
            "linecolor": "white",
            "ticks": ""
           },
           "bgcolor": "#E5ECF6",
           "radialaxis": {
            "gridcolor": "white",
            "linecolor": "white",
            "ticks": ""
           }
          },
          "scene": {
           "xaxis": {
            "backgroundcolor": "#E5ECF6",
            "gridcolor": "white",
            "gridwidth": 2,
            "linecolor": "white",
            "showbackground": true,
            "ticks": "",
            "zerolinecolor": "white"
           },
           "yaxis": {
            "backgroundcolor": "#E5ECF6",
            "gridcolor": "white",
            "gridwidth": 2,
            "linecolor": "white",
            "showbackground": true,
            "ticks": "",
            "zerolinecolor": "white"
           },
           "zaxis": {
            "backgroundcolor": "#E5ECF6",
            "gridcolor": "white",
            "gridwidth": 2,
            "linecolor": "white",
            "showbackground": true,
            "ticks": "",
            "zerolinecolor": "white"
           }
          },
          "shapedefaults": {
           "line": {
            "color": "#2a3f5f"
           }
          },
          "ternary": {
           "aaxis": {
            "gridcolor": "white",
            "linecolor": "white",
            "ticks": ""
           },
           "baxis": {
            "gridcolor": "white",
            "linecolor": "white",
            "ticks": ""
           },
           "bgcolor": "#E5ECF6",
           "caxis": {
            "gridcolor": "white",
            "linecolor": "white",
            "ticks": ""
           }
          },
          "title": {
           "x": 0.05
          },
          "xaxis": {
           "automargin": true,
           "gridcolor": "white",
           "linecolor": "white",
           "ticks": "",
           "title": {
            "standoff": 15
           },
           "zerolinecolor": "white",
           "zerolinewidth": 2
          },
          "yaxis": {
           "automargin": true,
           "gridcolor": "white",
           "linecolor": "white",
           "ticks": "",
           "title": {
            "standoff": 15
           },
           "zerolinecolor": "white",
           "zerolinewidth": 2
          }
         }
        },
        "title": {
         "text": "Taux de création d'entreprises (pour 1000 habitants de 20 entreprises aléatoires"
        },
        "xaxis": {
         "anchor": "y",
         "autorange": true,
         "domain": [
          0,
          1
         ],
         "range": [
          -544.7639369894372,
          10320.080809441526
         ],
         "title": {
          "text": "Population"
         },
         "type": "linear"
        },
        "yaxis": {
         "anchor": "x",
         "autorange": true,
         "domain": [
          0,
          1
         ],
         "range": [
          -5.693414183871974,
          79.70779857420763
         ],
         "title": {
          "text": "taux_creation"
         },
         "type": "linear"
        }
       }
      },
      "image/png": "[encoded data removed]",
      "text/html": [
       "<div>                            <div id=\"b4aa14a8-04f9-4ee9-8391-eeb03efa96fe\" class=\"plotly-graph-div\" style=\"height:525px; width:100%;\"></div>            <script type=\"text/javascript\">                require([\"plotly\"], function(Plotly) {                    window.PLOTLYENV=window.PLOTLYENV || {};                                    if (document.getElementById(\"b4aa14a8-04f9-4ee9-8391-eeb03efa96fe\")) {                    Plotly.newPlot(                        \"b4aa14a8-04f9-4ee9-8391-eeb03efa96fe\",                        [{\"customdata\":[[\"Autechaux\"]],\"hovertemplate\":\"Commune=%{customdata[0]}\\u003cbr\\u003ePopulation=%{marker.size}\\u003cbr\\u003etaux_creation=%{y}\\u003cextra\\u003e\\u003c\\u002fextra\\u003e\",\"legendgroup\":\"Autechaux\",\"marker\":{\"color\":\"#636efa\",\"size\":[437],\"sizemode\":\"area\",\"sizeref\":23.895,\"symbol\":\"circle\"},\"mode\":\"markers\",\"name\":\"Autechaux\",\"orientation\":\"v\",\"showlegend\":true,\"x\":[437],\"xaxis\":\"x\",\"y\":[13.729977116704804],\"yaxis\":\"y\",\"type\":\"scatter\"},{\"customdata\":[[\"Saint-Maurice-de-Gourdans\"]],\"hovertemplate\":\"Commune=%{customdata[0]}\\u003cbr\\u003ePopulation=%{marker.size}\\u003cbr\\u003etaux_creation=%{y}\\u003cextra\\u003e\\u003c\\u002fextra\\u003e\",\"legendgroup\":\"Saint-Maurice-de-Gourdans\",\"marker\":{\"color\":\"#EF553B\",\"size\":[2755],\"sizemode\":\"area\",\"sizeref\":23.895,\"symbol\":\"circle\"},\"mode\":\"markers\",\"name\":\"Saint-Maurice-de-Gourdans\",\"orientation\":\"v\",\"showlegend\":true,\"x\":[2755],\"xaxis\":\"x\",\"y\":[11.615245009074409],\"yaxis\":\"y\",\"type\":\"scatter\"},{\"customdata\":[[\"Berlancourt\"]],\"hovertemplate\":\"Commune=%{customdata[0]}\\u003cbr\\u003ePopulation=%{marker.size}\\u003cbr\\u003etaux_creation=%{y}\\u003cextra\\u003e\\u003c\\u002fextra\\u003e\",\"legendgroup\":\"Berlancourt\",\"marker\":{\"color\":\"#00cc96\",\"size\":[90],\"sizemode\":\"area\",\"sizeref\":23.895,\"symbol\":\"circle\"},\"mode\":\"markers\",\"name\":\"Berlancourt\",\"orientation\":\"v\",\"showlegend\":true,\"x\":[90],\"xaxis\":\"x\",\"y\":[0.0],\"yaxis\":\"y\",\"type\":\"scatter\"},{\"customdata\":[[\"Villebon\"]],\"hovertemplate\":\"Commune=%{customdata[0]}\\u003cbr\\u003ePopulation=%{marker.size}\\u003cbr\\u003etaux_creation=%{y}\\u003cextra\\u003e\\u003c\\u002fextra\\u003e\",\"legendgroup\":\"Villebon\",\"marker\":{\"color\":\"#ab63fa\",\"size\":[64],\"sizemode\":\"area\",\"sizeref\":23.895,\"symbol\":\"circle\"},\"mode\":\"markers\",\"name\":\"Villebon\",\"orientation\":\"v\",\"showlegend\":true,\"x\":[64],\"xaxis\":\"x\",\"y\":[15.625],\"yaxis\":\"y\",\"type\":\"scatter\"},{\"customdata\":[[\"Bully\"]],\"hovertemplate\":\"Commune=%{customdata[0]}\\u003cbr\\u003ePopulation=%{marker.size}\\u003cbr\\u003etaux_creation=%{y}\\u003cextra\\u003e\\u003c\\u002fextra\\u003e\",\"legendgroup\":\"Bully\",\"marker\":{\"color\":\"#FFA15A\",\"size\":[406],\"sizemode\":\"area\",\"sizeref\":23.895,\"symbol\":\"circle\"},\"mode\":\"markers\",\"name\":\"Bully\",\"orientation\":\"v\",\"showlegend\":true,\"x\":[406],\"xaxis\":\"x\",\"y\":[73.89162561576356],\"yaxis\":\"y\",\"type\":\"scatter\"},{\"customdata\":[[\"Port-la-Nouvelle\"]],\"hovertemplate\":\"Commune=%{customdata[0]}\\u003cbr\\u003ePopulation=%{marker.size}\\u003cbr\\u003etaux_creation=%{y}\\u003cextra\\u003e\\u003c\\u002fextra\\u003e\",\"legendgroup\":\"Port-la-Nouvelle\",\"marker\":{\"color\":\"#19d3f3\",\"size\":[5975],\"sizemode\":\"area\",\"sizeref\":23.895,\"symbol\":\"circle\"},\"mode\":\"markers\",\"name\":\"Port-la-Nouvelle\",\"orientation\":\"v\",\"showlegend\":true,\"x\":[5975],\"xaxis\":\"x\",\"y\":[13.556485355648535],\"yaxis\":\"y\",\"type\":\"scatter\"},{\"customdata\":[[\"Maussane-les-Alpilles\"]],\"hovertemplate\":\"Commune=%{customdata[0]}\\u003cbr\\u003ePopulation=%{marker.size}\\u003cbr\\u003etaux_creation=%{y}\\u003cextra\\u003e\\u003c\\u002fextra\\u003e\",\"legendgroup\":\"Maussane-les-Alpilles\",\"marker\":{\"color\":\"#FF6692\",\"size\":[2445],\"sizemode\":\"area\",\"sizeref\":23.895,\"symbol\":\"circle\"},\"mode\":\"markers\",\"name\":\"Maussane-les-Alpilles\",\"orientation\":\"v\",\"showlegend\":true,\"x\":[2445],\"xaxis\":\"x\",\"y\":[26.175869120654397],\"yaxis\":\"y\",\"type\":\"scatter\"},{\"customdata\":[[\"Briosne-l\\u00e8s-Sables\"]],\"hovertemplate\":\"Commune=%{customdata[0]}\\u003cbr\\u003ePopulation=%{marker.size}\\u003cbr\\u003etaux_creation=%{y}\\u003cextra\\u003e\\u003c\\u002fextra\\u003e\",\"legendgroup\":\"Briosne-l\\u00e8s-Sables\",\"marker\":{\"color\":\"#B6E880\",\"size\":[527],\"sizemode\":\"area\",\"sizeref\":23.895,\"symbol\":\"circle\"},\"mode\":\"markers\",\"name\":\"Briosne-l\\u00e8s-Sables\",\"orientation\":\"v\",\"showlegend\":true,\"x\":[527],\"xaxis\":\"x\",\"y\":[5.692599620493358],\"yaxis\":\"y\",\"type\":\"scatter\"},{\"customdata\":[[\"Ouistreham\"]],\"hovertemplate\":\"Commune=%{customdata[0]}\\u003cbr\\u003ePopulation=%{marker.size}\\u003cbr\\u003etaux_creation=%{y}\\u003cextra\\u003e\\u003c\\u002fextra\\u003e\",\"legendgroup\":\"Ouistreham\",\"marker\":{\"color\":\"#FF97FF\",\"size\":[9558],\"sizemode\":\"area\",\"sizeref\":23.895,\"symbol\":\"circle\"},\"mode\":\"markers\",\"name\":\"Ouistreham\",\"orientation\":\"v\",\"showlegend\":true,\"x\":[9558],\"xaxis\":\"x\",\"y\":[12.450303410755387],\"yaxis\":\"y\",\"type\":\"scatter\"},{\"customdata\":[[\"Champtonnay\"]],\"hovertemplate\":\"Commune=%{customdata[0]}\\u003cbr\\u003ePopulation=%{marker.size}\\u003cbr\\u003etaux_creation=%{y}\\u003cextra\\u003e\\u003c\\u002fextra\\u003e\",\"legendgroup\":\"Champtonnay\",\"marker\":{\"color\":\"#FECB52\",\"size\":[88],\"sizemode\":\"area\",\"sizeref\":23.895,\"symbol\":\"circle\"},\"mode\":\"markers\",\"name\":\"Champtonnay\",\"orientation\":\"v\",\"showlegend\":true,\"x\":[88],\"xaxis\":\"x\",\"y\":[11.363636363636363],\"yaxis\":\"y\",\"type\":\"scatter\"},{\"customdata\":[[\"Villerserine\"]],\"hovertemplate\":\"Commune=%{customdata[0]}\\u003cbr\\u003ePopulation=%{marker.size}\\u003cbr\\u003etaux_creation=%{y}\\u003cextra\\u003e\\u003c\\u002fextra\\u003e\",\"legendgroup\":\"Villerserine\",\"marker\":{\"color\":\"#636efa\",\"size\":[40],\"sizemode\":\"area\",\"sizeref\":23.895,\"symbol\":\"circle\"},\"mode\":\"markers\",\"name\":\"Villerserine\",\"orientation\":\"v\",\"showlegend\":true,\"x\":[40],\"xaxis\":\"x\",\"y\":[0.0],\"yaxis\":\"y\",\"type\":\"scatter\"},{\"customdata\":[[\"Us\"]],\"hovertemplate\":\"Commune=%{customdata[0]}\\u003cbr\\u003ePopulation=%{marker.size}\\u003cbr\\u003etaux_creation=%{y}\\u003cextra\\u003e\\u003c\\u002fextra\\u003e\",\"legendgroup\":\"Us\",\"marker\":{\"color\":\"#EF553B\",\"size\":[1350],\"sizemode\":\"area\",\"sizeref\":23.895,\"symbol\":\"circle\"},\"mode\":\"markers\",\"name\":\"Us\",\"orientation\":\"v\",\"showlegend\":true,\"x\":[1350],\"xaxis\":\"x\",\"y\":[14.814814814814815],\"yaxis\":\"y\",\"type\":\"scatter\"},{\"customdata\":[[\"Piencourt\"]],\"hovertemplate\":\"Commune=%{customdata[0]}\\u003cbr\\u003ePopulation=%{marker.size}\\u003cbr\\u003etaux_creation=%{y}\\u003cextra\\u003e\\u003c\\u002fextra\\u003e\",\"legendgroup\":\"Piencourt\",\"marker\":{\"color\":\"#00cc96\",\"size\":[169],\"sizemode\":\"area\",\"sizeref\":23.895,\"symbol\":\"circle\"},\"mode\":\"markers\",\"name\":\"Piencourt\",\"orientation\":\"v\",\"showlegend\":true,\"x\":[169],\"xaxis\":\"x\",\"y\":[0.0],\"yaxis\":\"y\",\"type\":\"scatter\"},{\"customdata\":[[\"Villard-Bonnot\"]],\"hovertemplate\":\"Commune=%{customdata[0]}\\u003cbr\\u003ePopulation=%{marker.size}\\u003cbr\\u003etaux_creation=%{y}\\u003cextra\\u003e\\u003c\\u002fextra\\u003e\",\"legendgroup\":\"Villard-Bonnot\",\"marker\":{\"color\":\"#ab63fa\",\"size\":[7431],\"sizemode\":\"area\",\"sizeref\":23.895,\"symbol\":\"circle\"},\"mode\":\"markers\",\"name\":\"Villard-Bonnot\",\"orientation\":\"v\",\"showlegend\":true,\"x\":[7431],\"xaxis\":\"x\",\"y\":[12.111425111021397],\"yaxis\":\"y\",\"type\":\"scatter\"},{\"customdata\":[[\"Villacourt\"]],\"hovertemplate\":\"Commune=%{customdata[0]}\\u003cbr\\u003ePopulation=%{marker.size}\\u003cbr\\u003etaux_creation=%{y}\\u003cextra\\u003e\\u003c\\u002fextra\\u003e\",\"legendgroup\":\"Villacourt\",\"marker\":{\"color\":\"#FFA15A\",\"size\":[367],\"sizemode\":\"area\",\"sizeref\":23.895,\"symbol\":\"circle\"},\"mode\":\"markers\",\"name\":\"Villacourt\",\"orientation\":\"v\",\"showlegend\":true,\"x\":[367],\"xaxis\":\"x\",\"y\":[5.449591280653951],\"yaxis\":\"y\",\"type\":\"scatter\"},{\"customdata\":[[\"Taillades\"]],\"hovertemplate\":\"Commune=%{customdata[0]}\\u003cbr\\u003ePopulation=%{marker.size}\\u003cbr\\u003etaux_creation=%{y}\\u003cextra\\u003e\\u003c\\u002fextra\\u003e\",\"legendgroup\":\"Taillades\",\"marker\":{\"color\":\"#19d3f3\",\"size\":[1957],\"sizemode\":\"area\",\"sizeref\":23.895,\"symbol\":\"circle\"},\"mode\":\"markers\",\"name\":\"Taillades\",\"orientation\":\"v\",\"showlegend\":true,\"x\":[1957],\"xaxis\":\"x\",\"y\":[21.972406745017885],\"yaxis\":\"y\",\"type\":\"scatter\"},{\"customdata\":[[\"Roupeldange\"]],\"hovertemplate\":\"Commune=%{customdata[0]}\\u003cbr\\u003ePopulation=%{marker.size}\\u003cbr\\u003etaux_creation=%{y}\\u003cextra\\u003e\\u003c\\u002fextra\\u003e\",\"legendgroup\":\"Roupeldange\",\"marker\":{\"color\":\"#FF6692\",\"size\":[369],\"sizemode\":\"area\",\"sizeref\":23.895,\"symbol\":\"circle\"},\"mode\":\"markers\",\"name\":\"Roupeldange\",\"orientation\":\"v\",\"showlegend\":true,\"x\":[369],\"xaxis\":\"x\",\"y\":[2.710027100271003],\"yaxis\":\"y\",\"type\":\"scatter\"},{\"customdata\":[[\"Treize-Septiers\"]],\"hovertemplate\":\"Commune=%{customdata[0]}\\u003cbr\\u003ePopulation=%{marker.size}\\u003cbr\\u003etaux_creation=%{y}\\u003cextra\\u003e\\u003c\\u002fextra\\u003e\",\"legendgroup\":\"Treize-Septiers\",\"marker\":{\"color\":\"#B6E880\",\"size\":[3362],\"sizemode\":\"area\",\"sizeref\":23.895,\"symbol\":\"circle\"},\"mode\":\"markers\",\"name\":\"Treize-Septiers\",\"orientation\":\"v\",\"showlegend\":true,\"x\":[3362],\"xaxis\":\"x\",\"y\":[8.328375966686496],\"yaxis\":\"y\",\"type\":\"scatter\"},{\"customdata\":[[\"Mary\"]],\"hovertemplate\":\"Commune=%{customdata[0]}\\u003cbr\\u003ePopulation=%{marker.size}\\u003cbr\\u003etaux_creation=%{y}\\u003cextra\\u003e\\u003c\\u002fextra\\u003e\",\"legendgroup\":\"Mary\",\"marker\":{\"color\":\"#FF97FF\",\"size\":[274],\"sizemode\":\"area\",\"sizeref\":23.895,\"symbol\":\"circle\"},\"mode\":\"markers\",\"name\":\"Mary\",\"orientation\":\"v\",\"showlegend\":true,\"x\":[274],\"xaxis\":\"x\",\"y\":[14.598540145985401],\"yaxis\":\"y\",\"type\":\"scatter\"},{\"customdata\":[[\"Variscourt\"]],\"hovertemplate\":\"Commune=%{customdata[0]}\\u003cbr\\u003ePopulation=%{marker.size}\\u003cbr\\u003etaux_creation=%{y}\\u003cextra\\u003e\\u003c\\u002fextra\\u003e\",\"legendgroup\":\"Variscourt\",\"marker\":{\"color\":\"#FECB52\",\"size\":[215],\"sizemode\":\"area\",\"sizeref\":23.895,\"symbol\":\"circle\"},\"mode\":\"markers\",\"name\":\"Variscourt\",\"orientation\":\"v\",\"showlegend\":true,\"x\":[215],\"xaxis\":\"x\",\"y\":[9.30232558139535],\"yaxis\":\"y\",\"type\":\"scatter\"}],                        {\"template\":{\"data\":{\"histogram2dcontour\":[{\"type\":\"histogram2dcontour\",\"colorbar\":{\"outlinewidth\":0,\"ticks\":\"\"},\"colorscale\":[[0.0,\"#0d0887\"],[0.1111111111111111,\"#46039f\"],[0.2222222222222222,\"#7201a8\"],[0.3333333333333333,\"#9c179e\"],[0.4444444444444444,\"#bd3786\"],[0.5555555555555556,\"#d8576b\"],[0.6666666666666666,\"#ed7953\"],[0.7777777777777778,\"#fb9f3a\"],[0.8888888888888888,\"#fdca26\"],[1.0,\"#f0f921\"]]}],\"choropleth\":[{\"type\":\"choropleth\",\"colorbar\":{\"outlinewidth\":0,\"ticks\":\"\"}}],\"histogram2d\":[{\"type\":\"histogram2d\",\"colorbar\":{\"outlinewidth\":0,\"ticks\":\"\"},\"colorscale\":[[0.0,\"#0d0887\"],[0.1111111111111111,\"#46039f\"],[0.2222222222222222,\"#7201a8\"],[0.3333333333333333,\"#9c179e\"],[0.4444444444444444,\"#bd3786\"],[0.5555555555555556,\"#d8576b\"],[0.6666666666666666,\"#ed7953\"],[0.7777777777777778,\"#fb9f3a\"],[0.8888888888888888,\"#fdca26\"],[1.0,\"#f0f921\"]]}],\"heatmap\":[{\"type\":\"heatmap\",\"colorbar\":{\"outlinewidth\":0,\"ticks\":\"\"},\"colorscale\":[[0.0,\"#0d0887\"],[0.1111111111111111,\"#46039f\"],[0.2222222222222222,\"#7201a8\"],[0.3333333333333333,\"#9c179e\"],[0.4444444444444444,\"#bd3786\"],[0.5555555555555556,\"#d8576b\"],[0.6666666666666666,\"#ed7953\"],[0.7777777777777778,\"#fb9f3a\"],[0.8888888888888888,\"#fdca26\"],[1.0,\"#f0f921\"]]}],\"heatmapgl\":[{\"type\":\"heatmapgl\",\"colorbar\":{\"outlinewidth\":0,\"ticks\":\"\"},\"colorscale\":[[0.0,\"#0d0887\"],[0.1111111111111111,\"#46039f\"],[0.2222222222222222,\"#7201a8\"],[0.3333333333333333,\"#9c179e\"],[0.4444444444444444,\"#bd3786\"],[0.5555555555555556,\"#d8576b\"],[0.6666666666666666,\"#ed7953\"],[0.7777777777777778,\"#fb9f3a\"],[0.8888888888888888,\"#fdca26\"],[1.0,\"#f0f921\"]]}],\"contourcarpet\":[{\"type\":\"contourcarpet\",\"colorbar\":{\"outlinewidth\":0,\"ticks\":\"\"}}],\"contour\":[{\"type\":\"contour\",\"colorbar\":{\"outlinewidth\":0,\"ticks\":\"\"},\"colorscale\":[[0.0,\"#0d0887\"],[0.1111111111111111,\"#46039f\"],[0.2222222222222222,\"#7201a8\"],[0.3333333333333333,\"#9c179e\"],[0.4444444444444444,\"#bd3786\"],[0.5555555555555556,\"#d8576b\"],[0.6666666666666666,\"#ed7953\"],[0.7777777777777778,\"#fb9f3a\"],[0.8888888888888888,\"#fdca26\"],[1.0,\"#f0f921\"]]}],\"surface\":[{\"type\":\"surface\",\"colorbar\":{\"outlinewidth\":0,\"ticks\":\"\"},\"colorscale\":[[0.0,\"#0d0887\"],[0.1111111111111111,\"#46039f\"],[0.2222222222222222,\"#7201a8\"],[0.3333333333333333,\"#9c179e\"],[0.4444444444444444,\"#bd3786\"],[0.5555555555555556,\"#d8576b\"],[0.6666666666666666,\"#ed7953\"],[0.7777777777777778,\"#fb9f3a\"],[0.8888888888888888,\"#fdca26\"],[1.0,\"#f0f921\"]]}],\"mesh3d\":[{\"type\":\"mesh3d\",\"colorbar\":{\"outlinewidth\":0,\"ticks\":\"\"}}],\"scatter\":[{\"fillpattern\":{\"fillmode\":\"overlay\",\"size\":10,\"solidity\":0.2},\"type\":\"scatter\"}],\"parcoords\":[{\"type\":\"parcoords\",\"line\":{\"colorbar\":{\"outlinewidth\":0,\"ticks\":\"\"}}}],\"scatterpolargl\":[{\"type\":\"scatterpolargl\",\"marker\":{\"colorbar\":{\"outlinewidth\":0,\"ticks\":\"\"}}}],\"bar\":[{\"error_x\":{\"color\":\"#2a3f5f\"},\"error_y\":{\"color\":\"#2a3f5f\"},\"marker\":{\"line\":{\"color\":\"#E5ECF6\",\"width\":0.5},\"pattern\":{\"fillmode\":\"overlay\",\"size\":10,\"solidity\":0.2}},\"type\":\"bar\"}],\"scattergeo\":[{\"type\":\"scattergeo\",\"marker\":{\"colorbar\":{\"outlinewidth\":0,\"ticks\":\"\"}}}],\"scatterpolar\":[{\"type\":\"scatterpolar\",\"marker\":{\"colorbar\":{\"outlinewidth\":0,\"ticks\":\"\"}}}],\"histogram\":[{\"marker\":{\"pattern\":{\"fillmode\":\"overlay\",\"size\":10,\"solidity\":0.2}},\"type\":\"histogram\"}],\"scattergl\":[{\"type\":\"scattergl\",\"marker\":{\"colorbar\":{\"outlinewidth\":0,\"ticks\":\"\"}}}],\"scatter3d\":[{\"type\":\"scatter3d\",\"line\":{\"colorbar\":{\"outlinewidth\":0,\"ticks\":\"\"}},\"marker\":{\"colorbar\":{\"outlinewidth\":0,\"ticks\":\"\"}}}],\"scattermapbox\":[{\"type\":\"scattermapbox\",\"marker\":{\"colorbar\":{\"outlinewidth\":0,\"ticks\":\"\"}}}],\"scatterternary\":[{\"type\":\"scatterternary\",\"marker\":{\"colorbar\":{\"outlinewidth\":0,\"ticks\":\"\"}}}],\"scattercarpet\":[{\"type\":\"scattercarpet\",\"marker\":{\"colorbar\":{\"outlinewidth\":0,\"ticks\":\"\"}}}],\"carpet\":[{\"aaxis\":{\"endlinecolor\":\"#2a3f5f\",\"gridcolor\":\"white\",\"linecolor\":\"white\",\"minorgridcolor\":\"white\",\"startlinecolor\":\"#2a3f5f\"},\"baxis\":{\"endlinecolor\":\"#2a3f5f\",\"gridcolor\":\"white\",\"linecolor\":\"white\",\"minorgridcolor\":\"white\",\"startlinecolor\":\"#2a3f5f\"},\"type\":\"carpet\"}],\"table\":[{\"cells\":{\"fill\":{\"color\":\"#EBF0F8\"},\"line\":{\"color\":\"white\"}},\"header\":{\"fill\":{\"color\":\"#C8D4E3\"},\"line\":{\"color\":\"white\"}},\"type\":\"table\"}],\"barpolar\":[{\"marker\":{\"line\":{\"color\":\"#E5ECF6\",\"width\":0.5},\"pattern\":{\"fillmode\":\"overlay\",\"size\":10,\"solidity\":0.2}},\"type\":\"barpolar\"}],\"pie\":[{\"automargin\":true,\"type\":\"pie\"}]},\"layout\":{\"autotypenumbers\":\"strict\",\"colorway\":[\"#636efa\",\"#EF553B\",\"#00cc96\",\"#ab63fa\",\"#FFA15A\",\"#19d3f3\",\"#FF6692\",\"#B6E880\",\"#FF97FF\",\"#FECB52\"],\"font\":{\"color\":\"#2a3f5f\"},\"hovermode\":\"closest\",\"hoverlabel\":{\"align\":\"left\"},\"paper_bgcolor\":\"white\",\"plot_bgcolor\":\"#E5ECF6\",\"polar\":{\"bgcolor\":\"#E5ECF6\",\"angularaxis\":{\"gridcolor\":\"white\",\"linecolor\":\"white\",\"ticks\":\"\"},\"radialaxis\":{\"gridcolor\":\"white\",\"linecolor\":\"white\",\"ticks\":\"\"}},\"ternary\":{\"bgcolor\":\"#E5ECF6\",\"aaxis\":{\"gridcolor\":\"white\",\"linecolor\":\"white\",\"ticks\":\"\"},\"baxis\":{\"gridcolor\":\"white\",\"linecolor\":\"white\",\"ticks\":\"\"},\"caxis\":{\"gridcolor\":\"white\",\"linecolor\":\"white\",\"ticks\":\"\"}},\"coloraxis\":{\"colorbar\":{\"outlinewidth\":0,\"ticks\":\"\"}},\"colorscale\":{\"sequential\":[[0.0,\"#0d0887\"],[0.1111111111111111,\"#46039f\"],[0.2222222222222222,\"#7201a8\"],[0.3333333333333333,\"#9c179e\"],[0.4444444444444444,\"#bd3786\"],[0.5555555555555556,\"#d8576b\"],[0.6666666666666666,\"#ed7953\"],[0.7777777777777778,\"#fb9f3a\"],[0.8888888888888888,\"#fdca26\"],[1.0,\"#f0f921\"]],\"sequentialminus\":[[0.0,\"#0d0887\"],[0.1111111111111111,\"#46039f\"],[0.2222222222222222,\"#7201a8\"],[0.3333333333333333,\"#9c179e\"],[0.4444444444444444,\"#bd3786\"],[0.5555555555555556,\"#d8576b\"],[0.6666666666666666,\"#ed7953\"],[0.7777777777777778,\"#fb9f3a\"],[0.8888888888888888,\"#fdca26\"],[1.0,\"#f0f921\"]],\"diverging\":[[0,\"#8e0152\"],[0.1,\"#c51b7d\"],[0.2,\"#de77ae\"],[0.3,\"#f1b6da\"],[0.4,\"#fde0ef\"],[0.5,\"#f7f7f7\"],[0.6,\"#e6f5d0\"],[0.7,\"#b8e186\"],[0.8,\"#7fbc41\"],[0.9,\"#4d9221\"],[1,\"#276419\"]]},\"xaxis\":{\"gridcolor\":\"white\",\"linecolor\":\"white\",\"ticks\":\"\",\"title\":{\"standoff\":15},\"zerolinecolor\":\"white\",\"automargin\":true,\"zerolinewidth\":2},\"yaxis\":{\"gridcolor\":\"white\",\"linecolor\":\"white\",\"ticks\":\"\",\"title\":{\"standoff\":15},\"zerolinecolor\":\"white\",\"automargin\":true,\"zerolinewidth\":2},\"scene\":{\"xaxis\":{\"backgroundcolor\":\"#E5ECF6\",\"gridcolor\":\"white\",\"linecolor\":\"white\",\"showbackground\":true,\"ticks\":\"\",\"zerolinecolor\":\"white\",\"gridwidth\":2},\"yaxis\":{\"backgroundcolor\":\"#E5ECF6\",\"gridcolor\":\"white\",\"linecolor\":\"white\",\"showbackground\":true,\"ticks\":\"\",\"zerolinecolor\":\"white\",\"gridwidth\":2},\"zaxis\":{\"backgroundcolor\":\"#E5ECF6\",\"gridcolor\":\"white\",\"linecolor\":\"white\",\"showbackground\":true,\"ticks\":\"\",\"zerolinecolor\":\"white\",\"gridwidth\":2}},\"shapedefaults\":{\"line\":{\"color\":\"#2a3f5f\"}},\"annotationdefaults\":{\"arrowcolor\":\"#2a3f5f\",\"arrowhead\":0,\"arrowwidth\":1},\"geo\":{\"bgcolor\":\"white\",\"landcolor\":\"#E5ECF6\",\"subunitcolor\":\"white\",\"showland\":true,\"showlakes\":true,\"lakecolor\":\"white\"},\"title\":{\"x\":0.05},\"mapbox\":{\"style\":\"light\"}}},\"xaxis\":{\"anchor\":\"y\",\"domain\":[0.0,1.0],\"title\":{\"text\":\"Population\"}},\"yaxis\":{\"anchor\":\"x\",\"domain\":[0.0,1.0],\"title\":{\"text\":\"taux_creation\"}},\"legend\":{\"title\":{\"text\":\"Commune\"},\"tracegroupgap\":0,\"itemsizing\":\"constant\"},\"title\":{\"text\":\"Taux de cr\\u00e9ation d'entreprises (pour 1000 habitants de 20 entreprises al\\u00e9atoires\"}},                        {\"responsive\": true}                    ).then(function(){\n",
       "                            \n",
       "var gd = document.getElementById('b4aa14a8-04f9-4ee9-8391-eeb03efa96fe');\n",
       "var x = new MutationObserver(function (mutations, observer) {{\n",
       "        var display = window.getComputedStyle(gd).display;\n",
       "        if (!display || display === 'none') {{\n",
       "            console.log([gd, 'removed!']);\n",
       "            Plotly.purge(gd);\n",
       "            observer.disconnect();\n",
       "        }}\n",
       "}});\n",
       "\n",
       "// Listen for the removal of the full notebook cells\n",
       "var notebookContainer = gd.closest('#notebook-container');\n",
       "if (notebookContainer) {{\n",
       "    x.observe(notebookContainer, {childList: true});\n",
       "}}\n",
       "\n",
       "// Listen for the clearing of the current output cell\n",
       "var outputEl = gd.closest('.output');\n",
       "if (outputEl) {{\n",
       "    x.observe(outputEl, {childList: true});\n",
       "}}\n",
       "\n",
       "                        })                };                });            </script>        </div>"
      ]
     },
     "metadata": {},
     "output_type": "display_data"
    }
   ],
   "source": [
    "# Échantillonnage de 20 entreprises aléatoires\n",
    "random_entreprises = POP_CreationEntrp.sample(n=20, random_state=1)\n",
    "fig = px.scatter(\n",
    "    random_entreprises,\n",
    "    x='Population',\n",
    "    y=\"taux_creation\",\n",
    "    hover_data=[\"taux_creation\", 'Population', 'Libellé commune ou ARM'],\n",
    "    color='Libellé commune ou ARM',  # Pour différencier les communes\n",
    "    size='Population',  # La taille des points est proportionnelle à la population\n",
    "    title=\"Taux de création d\\'entreprises (pour 1000 habitants de 20 entreprises aléatoires\",\n",
    "    labels={\n",
    "        \"Population\": \"Population\",\n",
    "        \"Créations d'entr. En 2022\": \"Créations d'entreprises\",\n",
    "        \"Libellé commune ou ARM\": \"Commune\"\n",
    "    }\n",
    ")\n",
    "fig.show()"
   ]
  },
  {
   "cell_type": "markdown",
   "id": "340ab1e5-3279-43b6-8f5a-caf14d843634",
   "metadata": {},
   "source": [
    "### Interprétation du Graphique de Dispersion\n",
    "\n",
    "#### Tendances :\n",
    "\n",
    "* Taux de Création d'Entreprises :\n",
    "Certaines communes avec beaucoup d'habitants ont un taux de création d'entreprises très variable.\n",
    "Une grande population ne veut pas toujours dire plus d'entreprises créées.\n",
    "\n",
    "* Faible Taux :\n",
    "Beaucoup de communes, même avec plus d'habitants, ont un taux de création d'entreprises bas.\n",
    "Cela peut montrer que les gens ne créent pas d'entreprises ou qu'il y a des difficultés à le faire.\n",
    "Pas de Lien Clair :\n",
    "\n",
    "* Les points sur le graphique montrent qu'il n'y a pas de relation simple entre population et création d'entreprises.\n",
    "D'autres éléments, comme l'argent disponible, les infrastructures, et le soutien local, jouent aussi un rôle important.\n",
    "\n",
    "#### Analyse des Communes\n",
    "\n",
    "* Villebon :\n",
    "Population : 64 habitants\n",
    "Taux de Création d'Entreprises : 15.625\n",
    "Observation : Même avec peu d'habitants, Villebon a un taux de création d'entreprises élevé. Cela peut être grâce à un bon soutien local et une ambiance favorable aux affaires.\n",
    "\n",
    "* Port-la-Nouvelle :\n",
    "Population : 5 975 habitants\n",
    "Taux de Création d'Entreprises : 13.5564\n",
    "Observation : Port-la-Nouvelle a beaucoup plus d'habitants, mais son taux de création d'entreprises est plus bas que celui de Villebon. Cela peut être dû à des problèmes comme la concurrence ou un manque de soutien pour les nouveaux entrepreneurs.\n",
    "\n",
    "\n",
    "* On constante que La taille de la population est importante, mais ce n'est pas tout.\n",
    "Villebon montre qu'une petite commune peut avoir un bon taux de création d'entreprises, tandis que Port-la-Nouvelle, plus grande, n'en a pas autant.\n",
    "Il faudrait aussi regarder d'autres facteurs pour comprendre pourquoi certaines communes réussissent mieux que d'autres dans la création d'entreprises."
   ]
  },
  {
   "cell_type": "code",
   "execution_count": null,
   "id": "acd8098f-1423-4c6a-a750-e424783604c2",
   "metadata": {},
   "outputs": [],
   "source": []
  },
  {
   "cell_type": "markdown",
   "id": "bbd74d32-e5b4-4146-9217-78b892b36ca2",
   "metadata": {},
   "source": [
    "### 4. créations d'entreprises parmi les 20 premières communes en France"
   ]
  },
  {
   "cell_type": "code",
   "execution_count": 16,
   "id": "201dfd23-d539-4e30-b71f-2c4b70bf55a4",
   "metadata": {},
   "outputs": [],
   "source": [
    "top_20 = POP_CreationEntrp.nlargest(20, 'Créations d\\'entr. En 2022')\n"
   ]
  },
  {
   "cell_type": "code",
   "execution_count": 17,
   "id": "46802b4a-ddfa-4d53-8dc5-f706111acc5d",
   "metadata": {},
   "outputs": [
    {
     "data": {
      "text/html": [
       "<div>\n",
       "<style scoped>\n",
       "    .dataframe tbody tr th:only-of-type {\n",
       "        vertical-align: middle;\n",
       "    }\n",
       "\n",
       "    .dataframe tbody tr th {\n",
       "        vertical-align: top;\n",
       "    }\n",
       "\n",
       "    .dataframe thead th {\n",
       "        text-align: right;\n",
       "    }\n",
       "</style>\n",
       "<table border=\"1\" class=\"dataframe\">\n",
       "  <thead>\n",
       "    <tr style=\"text-align: right;\">\n",
       "      <th></th>\n",
       "      <th>Libellé commune ou ARM</th>\n",
       "      <th>Créations d'entr. En 2022</th>\n",
       "      <th>Population</th>\n",
       "    </tr>\n",
       "  </thead>\n",
       "  <tbody>\n",
       "    <tr>\n",
       "      <th>4337</th>\n",
       "      <td>Marseille</td>\n",
       "      <td>22888</td>\n",
       "      <td>715</td>\n",
       "    </tr>\n",
       "    <tr>\n",
       "      <th>34908</th>\n",
       "      <td>Paris 8e Arrondissement</td>\n",
       "      <td>12731</td>\n",
       "      <td>36218</td>\n",
       "    </tr>\n",
       "    <tr>\n",
       "      <th>11781</th>\n",
       "      <td>Toulouse</td>\n",
       "      <td>11248</td>\n",
       "      <td>503020</td>\n",
       "    </tr>\n",
       "    <tr>\n",
       "      <th>1950</th>\n",
       "      <td>Nice</td>\n",
       "      <td>10188</td>\n",
       "      <td>346376</td>\n",
       "    </tr>\n",
       "    <tr>\n",
       "      <th>12341</th>\n",
       "      <td>Bordeaux</td>\n",
       "      <td>8637</td>\n",
       "      <td>263247</td>\n",
       "    </tr>\n",
       "    <tr>\n",
       "      <th>34917</th>\n",
       "      <td>Paris 17e Arrondissement</td>\n",
       "      <td>7772</td>\n",
       "      <td>167765</td>\n",
       "    </tr>\n",
       "    <tr>\n",
       "      <th>12985</th>\n",
       "      <td>Montpellier</td>\n",
       "      <td>7737</td>\n",
       "      <td>302425</td>\n",
       "    </tr>\n",
       "    <tr>\n",
       "      <th>16275</th>\n",
       "      <td>Nantes</td>\n",
       "      <td>6522</td>\n",
       "      <td>325857</td>\n",
       "    </tr>\n",
       "    <tr>\n",
       "      <th>34916</th>\n",
       "      <td>Paris 16e Arrondissement</td>\n",
       "      <td>6440</td>\n",
       "      <td>165118</td>\n",
       "    </tr>\n",
       "    <tr>\n",
       "      <th>34915</th>\n",
       "      <td>Paris 15e Arrondissement</td>\n",
       "      <td>6285</td>\n",
       "      <td>231186</td>\n",
       "    </tr>\n",
       "    <tr>\n",
       "      <th>22097</th>\n",
       "      <td>Lille</td>\n",
       "      <td>6147</td>\n",
       "      <td>238104</td>\n",
       "    </tr>\n",
       "    <tr>\n",
       "      <th>34918</th>\n",
       "      <td>Paris 18e Arrondissement</td>\n",
       "      <td>5958</td>\n",
       "      <td>191911</td>\n",
       "    </tr>\n",
       "    <tr>\n",
       "      <th>26502</th>\n",
       "      <td>Strasbourg</td>\n",
       "      <td>5551</td>\n",
       "      <td>293538</td>\n",
       "    </tr>\n",
       "    <tr>\n",
       "      <th>34919</th>\n",
       "      <td>Paris 19e Arrondissement</td>\n",
       "      <td>5451</td>\n",
       "      <td>184156</td>\n",
       "    </tr>\n",
       "    <tr>\n",
       "      <th>34911</th>\n",
       "      <td>Paris 11e Arrondissement</td>\n",
       "      <td>5362</td>\n",
       "      <td>145124</td>\n",
       "    </tr>\n",
       "    <tr>\n",
       "      <th>34912</th>\n",
       "      <td>Paris 12e Arrondissement</td>\n",
       "      <td>5322</td>\n",
       "      <td>141275</td>\n",
       "    </tr>\n",
       "    <tr>\n",
       "      <th>34804</th>\n",
       "      <td>Fort-de-France</td>\n",
       "      <td>5199</td>\n",
       "      <td>76085</td>\n",
       "    </tr>\n",
       "    <tr>\n",
       "      <th>34920</th>\n",
       "      <td>Paris 20e Arrondissement</td>\n",
       "      <td>5030</td>\n",
       "      <td>193044</td>\n",
       "    </tr>\n",
       "    <tr>\n",
       "      <th>13374</th>\n",
       "      <td>Rennes</td>\n",
       "      <td>4336</td>\n",
       "      <td>226654</td>\n",
       "    </tr>\n",
       "    <tr>\n",
       "      <th>34913</th>\n",
       "      <td>Paris 13e Arrondissement</td>\n",
       "      <td>3916</td>\n",
       "      <td>179013</td>\n",
       "    </tr>\n",
       "  </tbody>\n",
       "</table>\n",
       "</div>"
      ],
      "text/plain": [
       "         Libellé commune ou ARM  Créations d'entr. En 2022  Population\n",
       "4337                  Marseille                      22888         715\n",
       "34908   Paris 8e Arrondissement                      12731       36218\n",
       "11781                  Toulouse                      11248      503020\n",
       "1950                       Nice                      10188      346376\n",
       "12341                  Bordeaux                       8637      263247\n",
       "34917  Paris 17e Arrondissement                       7772      167765\n",
       "12985               Montpellier                       7737      302425\n",
       "16275                    Nantes                       6522      325857\n",
       "34916  Paris 16e Arrondissement                       6440      165118\n",
       "34915  Paris 15e Arrondissement                       6285      231186\n",
       "22097                     Lille                       6147      238104\n",
       "34918  Paris 18e Arrondissement                       5958      191911\n",
       "26502                Strasbourg                       5551      293538\n",
       "34919  Paris 19e Arrondissement                       5451      184156\n",
       "34911  Paris 11e Arrondissement                       5362      145124\n",
       "34912  Paris 12e Arrondissement                       5322      141275\n",
       "34804            Fort-de-France                       5199       76085\n",
       "34920  Paris 20e Arrondissement                       5030      193044\n",
       "13374                    Rennes                       4336      226654\n",
       "34913  Paris 13e Arrondissement                       3916      179013"
      ]
     },
     "metadata": {},
     "output_type": "display_data"
    }
   ],
   "source": [
    "display(top_20)"
   ]
  },
  {
   "cell_type": "code",
   "execution_count": 20,
   "id": "7c17bfb8-faf0-489d-97de-21cebd4b7c14",
   "metadata": {},
   "outputs": [
    {
     "data": {
      "application/vnd.plotly.v1+json": {
       "config": {
        "plotlyServerURL": "https://plot.ly"
       },
       "data": [
        {
         "domain": {
          "x": [
           0,
           1
          ],
          "y": [
           0,
           1
          ]
         },
         "hovertemplate": "Libellé commune ou ARM=%{label}<br>Créations d'entr. En 2022=%{value}<extra></extra>",
         "labels": [
          "Marseille",
          "Paris 8e Arrondissement",
          "Toulouse",
          "Nice",
          "Bordeaux",
          "Paris 17e Arrondissement",
          "Montpellier",
          "Nantes",
          "Paris 16e Arrondissement",
          "Paris 15e Arrondissement",
          "Lille",
          "Paris 18e Arrondissement",
          "Strasbourg",
          "Paris 19e Arrondissement",
          "Paris 11e Arrondissement",
          "Paris 12e Arrondissement",
          "Fort-de-France",
          "Paris 20e Arrondissement",
          "Rennes",
          "Paris 13e Arrondissement"
         ],
         "legendgroup": "",
         "name": "",
         "showlegend": true,
         "type": "pie",
         "values": [
          22888,
          12731,
          11248,
          10188,
          8637,
          7772,
          7737,
          6522,
          6440,
          6285,
          6147,
          5958,
          5551,
          5451,
          5362,
          5322,
          5199,
          5030,
          4336,
          3916
         ]
        }
       ],
       "layout": {
        "autosize": true,
        "height": 360,
        "legend": {
         "tracegroupgap": 0
        },
        "template": {
         "data": {
          "bar": [
           {
            "error_x": {
             "color": "#2a3f5f"
            },
            "error_y": {
             "color": "#2a3f5f"
            },
            "marker": {
             "line": {
              "color": "#E5ECF6",
              "width": 0.5
             },
             "pattern": {
              "fillmode": "overlay",
              "size": 10,
              "solidity": 0.2
             }
            },
            "type": "bar"
           }
          ],
          "barpolar": [
           {
            "marker": {
             "line": {
              "color": "#E5ECF6",
              "width": 0.5
             },
             "pattern": {
              "fillmode": "overlay",
              "size": 10,
              "solidity": 0.2
             }
            },
            "type": "barpolar"
           }
          ],
          "carpet": [
           {
            "aaxis": {
             "endlinecolor": "#2a3f5f",
             "gridcolor": "white",
             "linecolor": "white",
             "minorgridcolor": "white",
             "startlinecolor": "#2a3f5f"
            },
            "baxis": {
             "endlinecolor": "#2a3f5f",
             "gridcolor": "white",
             "linecolor": "white",
             "minorgridcolor": "white",
             "startlinecolor": "#2a3f5f"
            },
            "type": "carpet"
           }
          ],
          "choropleth": [
           {
            "colorbar": {
             "outlinewidth": 0,
             "ticks": ""
            },
            "type": "choropleth"
           }
          ],
          "contour": [
           {
            "colorbar": {
             "outlinewidth": 0,
             "ticks": ""
            },
            "colorscale": [
             [
              0,
              "#0d0887"
             ],
             [
              0.1111111111111111,
              "#46039f"
             ],
             [
              0.2222222222222222,
              "#7201a8"
             ],
             [
              0.3333333333333333,
              "#9c179e"
             ],
             [
              0.4444444444444444,
              "#bd3786"
             ],
             [
              0.5555555555555556,
              "#d8576b"
             ],
             [
              0.6666666666666666,
              "#ed7953"
             ],
             [
              0.7777777777777778,
              "#fb9f3a"
             ],
             [
              0.8888888888888888,
              "#fdca26"
             ],
             [
              1,
              "#f0f921"
             ]
            ],
            "type": "contour"
           }
          ],
          "contourcarpet": [
           {
            "colorbar": {
             "outlinewidth": 0,
             "ticks": ""
            },
            "type": "contourcarpet"
           }
          ],
          "heatmap": [
           {
            "colorbar": {
             "outlinewidth": 0,
             "ticks": ""
            },
            "colorscale": [
             [
              0,
              "#0d0887"
             ],
             [
              0.1111111111111111,
              "#46039f"
             ],
             [
              0.2222222222222222,
              "#7201a8"
             ],
             [
              0.3333333333333333,
              "#9c179e"
             ],
             [
              0.4444444444444444,
              "#bd3786"
             ],
             [
              0.5555555555555556,
              "#d8576b"
             ],
             [
              0.6666666666666666,
              "#ed7953"
             ],
             [
              0.7777777777777778,
              "#fb9f3a"
             ],
             [
              0.8888888888888888,
              "#fdca26"
             ],
             [
              1,
              "#f0f921"
             ]
            ],
            "type": "heatmap"
           }
          ],
          "heatmapgl": [
           {
            "colorbar": {
             "outlinewidth": 0,
             "ticks": ""
            },
            "colorscale": [
             [
              0,
              "#0d0887"
             ],
             [
              0.1111111111111111,
              "#46039f"
             ],
             [
              0.2222222222222222,
              "#7201a8"
             ],
             [
              0.3333333333333333,
              "#9c179e"
             ],
             [
              0.4444444444444444,
              "#bd3786"
             ],
             [
              0.5555555555555556,
              "#d8576b"
             ],
             [
              0.6666666666666666,
              "#ed7953"
             ],
             [
              0.7777777777777778,
              "#fb9f3a"
             ],
             [
              0.8888888888888888,
              "#fdca26"
             ],
             [
              1,
              "#f0f921"
             ]
            ],
            "type": "heatmapgl"
           }
          ],
          "histogram": [
           {
            "marker": {
             "pattern": {
              "fillmode": "overlay",
              "size": 10,
              "solidity": 0.2
             }
            },
            "type": "histogram"
           }
          ],
          "histogram2d": [
           {
            "colorbar": {
             "outlinewidth": 0,
             "ticks": ""
            },
            "colorscale": [
             [
              0,
              "#0d0887"
             ],
             [
              0.1111111111111111,
              "#46039f"
             ],
             [
              0.2222222222222222,
              "#7201a8"
             ],
             [
              0.3333333333333333,
              "#9c179e"
             ],
             [
              0.4444444444444444,
              "#bd3786"
             ],
             [
              0.5555555555555556,
              "#d8576b"
             ],
             [
              0.6666666666666666,
              "#ed7953"
             ],
             [
              0.7777777777777778,
              "#fb9f3a"
             ],
             [
              0.8888888888888888,
              "#fdca26"
             ],
             [
              1,
              "#f0f921"
             ]
            ],
            "type": "histogram2d"
           }
          ],
          "histogram2dcontour": [
           {
            "colorbar": {
             "outlinewidth": 0,
             "ticks": ""
            },
            "colorscale": [
             [
              0,
              "#0d0887"
             ],
             [
              0.1111111111111111,
              "#46039f"
             ],
             [
              0.2222222222222222,
              "#7201a8"
             ],
             [
              0.3333333333333333,
              "#9c179e"
             ],
             [
              0.4444444444444444,
              "#bd3786"
             ],
             [
              0.5555555555555556,
              "#d8576b"
             ],
             [
              0.6666666666666666,
              "#ed7953"
             ],
             [
              0.7777777777777778,
              "#fb9f3a"
             ],
             [
              0.8888888888888888,
              "#fdca26"
             ],
             [
              1,
              "#f0f921"
             ]
            ],
            "type": "histogram2dcontour"
           }
          ],
          "mesh3d": [
           {
            "colorbar": {
             "outlinewidth": 0,
             "ticks": ""
            },
            "type": "mesh3d"
           }
          ],
          "parcoords": [
           {
            "line": {
             "colorbar": {
              "outlinewidth": 0,
              "ticks": ""
             }
            },
            "type": "parcoords"
           }
          ],
          "pie": [
           {
            "automargin": true,
            "type": "pie"
           }
          ],
          "scatter": [
           {
            "fillpattern": {
             "fillmode": "overlay",
             "size": 10,
             "solidity": 0.2
            },
            "type": "scatter"
           }
          ],
          "scatter3d": [
           {
            "line": {
             "colorbar": {
              "outlinewidth": 0,
              "ticks": ""
             }
            },
            "marker": {
             "colorbar": {
              "outlinewidth": 0,
              "ticks": ""
             }
            },
            "type": "scatter3d"
           }
          ],
          "scattercarpet": [
           {
            "marker": {
             "colorbar": {
              "outlinewidth": 0,
              "ticks": ""
             }
            },
            "type": "scattercarpet"
           }
          ],
          "scattergeo": [
           {
            "marker": {
             "colorbar": {
              "outlinewidth": 0,
              "ticks": ""
             }
            },
            "type": "scattergeo"
           }
          ],
          "scattergl": [
           {
            "marker": {
             "colorbar": {
              "outlinewidth": 0,
              "ticks": ""
             }
            },
            "type": "scattergl"
           }
          ],
          "scattermapbox": [
           {
            "marker": {
             "colorbar": {
              "outlinewidth": 0,
              "ticks": ""
             }
            },
            "type": "scattermapbox"
           }
          ],
          "scatterpolar": [
           {
            "marker": {
             "colorbar": {
              "outlinewidth": 0,
              "ticks": ""
             }
            },
            "type": "scatterpolar"
           }
          ],
          "scatterpolargl": [
           {
            "marker": {
             "colorbar": {
              "outlinewidth": 0,
              "ticks": ""
             }
            },
            "type": "scatterpolargl"
           }
          ],
          "scatterternary": [
           {
            "marker": {
             "colorbar": {
              "outlinewidth": 0,
              "ticks": ""
             }
            },
            "type": "scatterternary"
           }
          ],
          "surface": [
           {
            "colorbar": {
             "outlinewidth": 0,
             "ticks": ""
            },
            "colorscale": [
             [
              0,
              "#0d0887"
             ],
             [
              0.1111111111111111,
              "#46039f"
             ],
             [
              0.2222222222222222,
              "#7201a8"
             ],
             [
              0.3333333333333333,
              "#9c179e"
             ],
             [
              0.4444444444444444,
              "#bd3786"
             ],
             [
              0.5555555555555556,
              "#d8576b"
             ],
             [
              0.6666666666666666,
              "#ed7953"
             ],
             [
              0.7777777777777778,
              "#fb9f3a"
             ],
             [
              0.8888888888888888,
              "#fdca26"
             ],
             [
              1,
              "#f0f921"
             ]
            ],
            "type": "surface"
           }
          ],
          "table": [
           {
            "cells": {
             "fill": {
              "color": "#EBF0F8"
             },
             "line": {
              "color": "white"
             }
            },
            "header": {
             "fill": {
              "color": "#C8D4E3"
             },
             "line": {
              "color": "white"
             }
            },
            "type": "table"
           }
          ]
         },
         "layout": {
          "annotationdefaults": {
           "arrowcolor": "#2a3f5f",
           "arrowhead": 0,
           "arrowwidth": 1
          },
          "autotypenumbers": "strict",
          "coloraxis": {
           "colorbar": {
            "outlinewidth": 0,
            "ticks": ""
           }
          },
          "colorscale": {
           "diverging": [
            [
             0,
             "#8e0152"
            ],
            [
             0.1,
             "#c51b7d"
            ],
            [
             0.2,
             "#de77ae"
            ],
            [
             0.3,
             "#f1b6da"
            ],
            [
             0.4,
             "#fde0ef"
            ],
            [
             0.5,
             "#f7f7f7"
            ],
            [
             0.6,
             "#e6f5d0"
            ],
            [
             0.7,
             "#b8e186"
            ],
            [
             0.8,
             "#7fbc41"
            ],
            [
             0.9,
             "#4d9221"
            ],
            [
             1,
             "#276419"
            ]
           ],
           "sequential": [
            [
             0,
             "#0d0887"
            ],
            [
             0.1111111111111111,
             "#46039f"
            ],
            [
             0.2222222222222222,
             "#7201a8"
            ],
            [
             0.3333333333333333,
             "#9c179e"
            ],
            [
             0.4444444444444444,
             "#bd3786"
            ],
            [
             0.5555555555555556,
             "#d8576b"
            ],
            [
             0.6666666666666666,
             "#ed7953"
            ],
            [
             0.7777777777777778,
             "#fb9f3a"
            ],
            [
             0.8888888888888888,
             "#fdca26"
            ],
            [
             1,
             "#f0f921"
            ]
           ],
           "sequentialminus": [
            [
             0,
             "#0d0887"
            ],
            [
             0.1111111111111111,
             "#46039f"
            ],
            [
             0.2222222222222222,
             "#7201a8"
            ],
            [
             0.3333333333333333,
             "#9c179e"
            ],
            [
             0.4444444444444444,
             "#bd3786"
            ],
            [
             0.5555555555555556,
             "#d8576b"
            ],
            [
             0.6666666666666666,
             "#ed7953"
            ],
            [
             0.7777777777777778,
             "#fb9f3a"
            ],
            [
             0.8888888888888888,
             "#fdca26"
            ],
            [
             1,
             "#f0f921"
            ]
           ]
          },
          "colorway": [
           "#636efa",
           "#EF553B",
           "#00cc96",
           "#ab63fa",
           "#FFA15A",
           "#19d3f3",
           "#FF6692",
           "#B6E880",
           "#FF97FF",
           "#FECB52"
          ],
          "font": {
           "color": "#2a3f5f"
          },
          "geo": {
           "bgcolor": "white",
           "lakecolor": "white",
           "landcolor": "#E5ECF6",
           "showlakes": true,
           "showland": true,
           "subunitcolor": "white"
          },
          "hoverlabel": {
           "align": "left"
          },
          "hovermode": "closest",
          "mapbox": {
           "style": "light"
          },
          "paper_bgcolor": "white",
          "plot_bgcolor": "#E5ECF6",
          "polar": {
           "angularaxis": {
            "gridcolor": "white",
            "linecolor": "white",
            "ticks": ""
           },
           "bgcolor": "#E5ECF6",
           "radialaxis": {
            "gridcolor": "white",
            "linecolor": "white",
            "ticks": ""
           }
          },
          "scene": {
           "xaxis": {
            "backgroundcolor": "#E5ECF6",
            "gridcolor": "white",
            "gridwidth": 2,
            "linecolor": "white",
            "showbackground": true,
            "ticks": "",
            "zerolinecolor": "white"
           },
           "yaxis": {
            "backgroundcolor": "#E5ECF6",
            "gridcolor": "white",
            "gridwidth": 2,
            "linecolor": "white",
            "showbackground": true,
            "ticks": "",
            "zerolinecolor": "white"
           },
           "zaxis": {
            "backgroundcolor": "#E5ECF6",
            "gridcolor": "white",
            "gridwidth": 2,
            "linecolor": "white",
            "showbackground": true,
            "ticks": "",
            "zerolinecolor": "white"
           }
          },
          "shapedefaults": {
           "line": {
            "color": "#2a3f5f"
           }
          },
          "ternary": {
           "aaxis": {
            "gridcolor": "white",
            "linecolor": "white",
            "ticks": ""
           },
           "baxis": {
            "gridcolor": "white",
            "linecolor": "white",
            "ticks": ""
           },
           "bgcolor": "#E5ECF6",
           "caxis": {
            "gridcolor": "white",
            "linecolor": "white",
            "ticks": ""
           }
          },
          "title": {
           "x": 0.05
          },
          "xaxis": {
           "automargin": true,
           "gridcolor": "white",
           "linecolor": "white",
           "ticks": "",
           "title": {
            "standoff": 15
           },
           "zerolinecolor": "white",
           "zerolinewidth": 2
          },
          "yaxis": {
           "automargin": true,
           "gridcolor": "white",
           "linecolor": "white",
           "ticks": "",
           "title": {
            "standoff": 15
           },
           "zerolinecolor": "white",
           "zerolinewidth": 2
          }
         }
        },
        "title": {
         "text": "Répartition des créations d'entreprises parmi les 20 premières communes"
        }
       }
      },
      "text/html": [
       "<div>                            <div id=\"88dd54a8-b98d-476d-8be9-575f7075cc6a\" class=\"plotly-graph-div\" style=\"height:525px; width:100%;\"></div>            <script type=\"text/javascript\">                require([\"plotly\"], function(Plotly) {                    window.PLOTLYENV=window.PLOTLYENV || {};                                    if (document.getElementById(\"88dd54a8-b98d-476d-8be9-575f7075cc6a\")) {                    Plotly.newPlot(                        \"88dd54a8-b98d-476d-8be9-575f7075cc6a\",                        [{\"domain\":{\"x\":[0.0,1.0],\"y\":[0.0,1.0]},\"hovertemplate\":\"Libell\\u00e9 commune ou ARM=%{label}\\u003cbr\\u003eCr\\u00e9ations d'entr. En 2022=%{value}\\u003cextra\\u003e\\u003c\\u002fextra\\u003e\",\"labels\":[\"Marseille\",\"Paris 8e Arrondissement\",\"Toulouse\",\"Nice\",\"Bordeaux\",\"Paris 17e Arrondissement\",\"Montpellier\",\"Nantes\",\"Paris 16e Arrondissement\",\"Paris 15e Arrondissement\",\"Lille\",\"Paris 18e Arrondissement\",\"Strasbourg\",\"Paris 19e Arrondissement\",\"Paris 11e Arrondissement\",\"Paris 12e Arrondissement\",\"Fort-de-France\",\"Paris 20e Arrondissement\",\"Rennes\",\"Paris 13e Arrondissement\"],\"legendgroup\":\"\",\"name\":\"\",\"showlegend\":true,\"values\":[22888,12731,11248,10188,8637,7772,7737,6522,6440,6285,6147,5958,5551,5451,5362,5322,5199,5030,4336,3916],\"type\":\"pie\"}],                        {\"template\":{\"data\":{\"histogram2dcontour\":[{\"type\":\"histogram2dcontour\",\"colorbar\":{\"outlinewidth\":0,\"ticks\":\"\"},\"colorscale\":[[0.0,\"#0d0887\"],[0.1111111111111111,\"#46039f\"],[0.2222222222222222,\"#7201a8\"],[0.3333333333333333,\"#9c179e\"],[0.4444444444444444,\"#bd3786\"],[0.5555555555555556,\"#d8576b\"],[0.6666666666666666,\"#ed7953\"],[0.7777777777777778,\"#fb9f3a\"],[0.8888888888888888,\"#fdca26\"],[1.0,\"#f0f921\"]]}],\"choropleth\":[{\"type\":\"choropleth\",\"colorbar\":{\"outlinewidth\":0,\"ticks\":\"\"}}],\"histogram2d\":[{\"type\":\"histogram2d\",\"colorbar\":{\"outlinewidth\":0,\"ticks\":\"\"},\"colorscale\":[[0.0,\"#0d0887\"],[0.1111111111111111,\"#46039f\"],[0.2222222222222222,\"#7201a8\"],[0.3333333333333333,\"#9c179e\"],[0.4444444444444444,\"#bd3786\"],[0.5555555555555556,\"#d8576b\"],[0.6666666666666666,\"#ed7953\"],[0.7777777777777778,\"#fb9f3a\"],[0.8888888888888888,\"#fdca26\"],[1.0,\"#f0f921\"]]}],\"heatmap\":[{\"type\":\"heatmap\",\"colorbar\":{\"outlinewidth\":0,\"ticks\":\"\"},\"colorscale\":[[0.0,\"#0d0887\"],[0.1111111111111111,\"#46039f\"],[0.2222222222222222,\"#7201a8\"],[0.3333333333333333,\"#9c179e\"],[0.4444444444444444,\"#bd3786\"],[0.5555555555555556,\"#d8576b\"],[0.6666666666666666,\"#ed7953\"],[0.7777777777777778,\"#fb9f3a\"],[0.8888888888888888,\"#fdca26\"],[1.0,\"#f0f921\"]]}],\"heatmapgl\":[{\"type\":\"heatmapgl\",\"colorbar\":{\"outlinewidth\":0,\"ticks\":\"\"},\"colorscale\":[[0.0,\"#0d0887\"],[0.1111111111111111,\"#46039f\"],[0.2222222222222222,\"#7201a8\"],[0.3333333333333333,\"#9c179e\"],[0.4444444444444444,\"#bd3786\"],[0.5555555555555556,\"#d8576b\"],[0.6666666666666666,\"#ed7953\"],[0.7777777777777778,\"#fb9f3a\"],[0.8888888888888888,\"#fdca26\"],[1.0,\"#f0f921\"]]}],\"contourcarpet\":[{\"type\":\"contourcarpet\",\"colorbar\":{\"outlinewidth\":0,\"ticks\":\"\"}}],\"contour\":[{\"type\":\"contour\",\"colorbar\":{\"outlinewidth\":0,\"ticks\":\"\"},\"colorscale\":[[0.0,\"#0d0887\"],[0.1111111111111111,\"#46039f\"],[0.2222222222222222,\"#7201a8\"],[0.3333333333333333,\"#9c179e\"],[0.4444444444444444,\"#bd3786\"],[0.5555555555555556,\"#d8576b\"],[0.6666666666666666,\"#ed7953\"],[0.7777777777777778,\"#fb9f3a\"],[0.8888888888888888,\"#fdca26\"],[1.0,\"#f0f921\"]]}],\"surface\":[{\"type\":\"surface\",\"colorbar\":{\"outlinewidth\":0,\"ticks\":\"\"},\"colorscale\":[[0.0,\"#0d0887\"],[0.1111111111111111,\"#46039f\"],[0.2222222222222222,\"#7201a8\"],[0.3333333333333333,\"#9c179e\"],[0.4444444444444444,\"#bd3786\"],[0.5555555555555556,\"#d8576b\"],[0.6666666666666666,\"#ed7953\"],[0.7777777777777778,\"#fb9f3a\"],[0.8888888888888888,\"#fdca26\"],[1.0,\"#f0f921\"]]}],\"mesh3d\":[{\"type\":\"mesh3d\",\"colorbar\":{\"outlinewidth\":0,\"ticks\":\"\"}}],\"scatter\":[{\"fillpattern\":{\"fillmode\":\"overlay\",\"size\":10,\"solidity\":0.2},\"type\":\"scatter\"}],\"parcoords\":[{\"type\":\"parcoords\",\"line\":{\"colorbar\":{\"outlinewidth\":0,\"ticks\":\"\"}}}],\"scatterpolargl\":[{\"type\":\"scatterpolargl\",\"marker\":{\"colorbar\":{\"outlinewidth\":0,\"ticks\":\"\"}}}],\"bar\":[{\"error_x\":{\"color\":\"#2a3f5f\"},\"error_y\":{\"color\":\"#2a3f5f\"},\"marker\":{\"line\":{\"color\":\"#E5ECF6\",\"width\":0.5},\"pattern\":{\"fillmode\":\"overlay\",\"size\":10,\"solidity\":0.2}},\"type\":\"bar\"}],\"scattergeo\":[{\"type\":\"scattergeo\",\"marker\":{\"colorbar\":{\"outlinewidth\":0,\"ticks\":\"\"}}}],\"scatterpolar\":[{\"type\":\"scatterpolar\",\"marker\":{\"colorbar\":{\"outlinewidth\":0,\"ticks\":\"\"}}}],\"histogram\":[{\"marker\":{\"pattern\":{\"fillmode\":\"overlay\",\"size\":10,\"solidity\":0.2}},\"type\":\"histogram\"}],\"scattergl\":[{\"type\":\"scattergl\",\"marker\":{\"colorbar\":{\"outlinewidth\":0,\"ticks\":\"\"}}}],\"scatter3d\":[{\"type\":\"scatter3d\",\"line\":{\"colorbar\":{\"outlinewidth\":0,\"ticks\":\"\"}},\"marker\":{\"colorbar\":{\"outlinewidth\":0,\"ticks\":\"\"}}}],\"scattermapbox\":[{\"type\":\"scattermapbox\",\"marker\":{\"colorbar\":{\"outlinewidth\":0,\"ticks\":\"\"}}}],\"scatterternary\":[{\"type\":\"scatterternary\",\"marker\":{\"colorbar\":{\"outlinewidth\":0,\"ticks\":\"\"}}}],\"scattercarpet\":[{\"type\":\"scattercarpet\",\"marker\":{\"colorbar\":{\"outlinewidth\":0,\"ticks\":\"\"}}}],\"carpet\":[{\"aaxis\":{\"endlinecolor\":\"#2a3f5f\",\"gridcolor\":\"white\",\"linecolor\":\"white\",\"minorgridcolor\":\"white\",\"startlinecolor\":\"#2a3f5f\"},\"baxis\":{\"endlinecolor\":\"#2a3f5f\",\"gridcolor\":\"white\",\"linecolor\":\"white\",\"minorgridcolor\":\"white\",\"startlinecolor\":\"#2a3f5f\"},\"type\":\"carpet\"}],\"table\":[{\"cells\":{\"fill\":{\"color\":\"#EBF0F8\"},\"line\":{\"color\":\"white\"}},\"header\":{\"fill\":{\"color\":\"#C8D4E3\"},\"line\":{\"color\":\"white\"}},\"type\":\"table\"}],\"barpolar\":[{\"marker\":{\"line\":{\"color\":\"#E5ECF6\",\"width\":0.5},\"pattern\":{\"fillmode\":\"overlay\",\"size\":10,\"solidity\":0.2}},\"type\":\"barpolar\"}],\"pie\":[{\"automargin\":true,\"type\":\"pie\"}]},\"layout\":{\"autotypenumbers\":\"strict\",\"colorway\":[\"#636efa\",\"#EF553B\",\"#00cc96\",\"#ab63fa\",\"#FFA15A\",\"#19d3f3\",\"#FF6692\",\"#B6E880\",\"#FF97FF\",\"#FECB52\"],\"font\":{\"color\":\"#2a3f5f\"},\"hovermode\":\"closest\",\"hoverlabel\":{\"align\":\"left\"},\"paper_bgcolor\":\"white\",\"plot_bgcolor\":\"#E5ECF6\",\"polar\":{\"bgcolor\":\"#E5ECF6\",\"angularaxis\":{\"gridcolor\":\"white\",\"linecolor\":\"white\",\"ticks\":\"\"},\"radialaxis\":{\"gridcolor\":\"white\",\"linecolor\":\"white\",\"ticks\":\"\"}},\"ternary\":{\"bgcolor\":\"#E5ECF6\",\"aaxis\":{\"gridcolor\":\"white\",\"linecolor\":\"white\",\"ticks\":\"\"},\"baxis\":{\"gridcolor\":\"white\",\"linecolor\":\"white\",\"ticks\":\"\"},\"caxis\":{\"gridcolor\":\"white\",\"linecolor\":\"white\",\"ticks\":\"\"}},\"coloraxis\":{\"colorbar\":{\"outlinewidth\":0,\"ticks\":\"\"}},\"colorscale\":{\"sequential\":[[0.0,\"#0d0887\"],[0.1111111111111111,\"#46039f\"],[0.2222222222222222,\"#7201a8\"],[0.3333333333333333,\"#9c179e\"],[0.4444444444444444,\"#bd3786\"],[0.5555555555555556,\"#d8576b\"],[0.6666666666666666,\"#ed7953\"],[0.7777777777777778,\"#fb9f3a\"],[0.8888888888888888,\"#fdca26\"],[1.0,\"#f0f921\"]],\"sequentialminus\":[[0.0,\"#0d0887\"],[0.1111111111111111,\"#46039f\"],[0.2222222222222222,\"#7201a8\"],[0.3333333333333333,\"#9c179e\"],[0.4444444444444444,\"#bd3786\"],[0.5555555555555556,\"#d8576b\"],[0.6666666666666666,\"#ed7953\"],[0.7777777777777778,\"#fb9f3a\"],[0.8888888888888888,\"#fdca26\"],[1.0,\"#f0f921\"]],\"diverging\":[[0,\"#8e0152\"],[0.1,\"#c51b7d\"],[0.2,\"#de77ae\"],[0.3,\"#f1b6da\"],[0.4,\"#fde0ef\"],[0.5,\"#f7f7f7\"],[0.6,\"#e6f5d0\"],[0.7,\"#b8e186\"],[0.8,\"#7fbc41\"],[0.9,\"#4d9221\"],[1,\"#276419\"]]},\"xaxis\":{\"gridcolor\":\"white\",\"linecolor\":\"white\",\"ticks\":\"\",\"title\":{\"standoff\":15},\"zerolinecolor\":\"white\",\"automargin\":true,\"zerolinewidth\":2},\"yaxis\":{\"gridcolor\":\"white\",\"linecolor\":\"white\",\"ticks\":\"\",\"title\":{\"standoff\":15},\"zerolinecolor\":\"white\",\"automargin\":true,\"zerolinewidth\":2},\"scene\":{\"xaxis\":{\"backgroundcolor\":\"#E5ECF6\",\"gridcolor\":\"white\",\"linecolor\":\"white\",\"showbackground\":true,\"ticks\":\"\",\"zerolinecolor\":\"white\",\"gridwidth\":2},\"yaxis\":{\"backgroundcolor\":\"#E5ECF6\",\"gridcolor\":\"white\",\"linecolor\":\"white\",\"showbackground\":true,\"ticks\":\"\",\"zerolinecolor\":\"white\",\"gridwidth\":2},\"zaxis\":{\"backgroundcolor\":\"#E5ECF6\",\"gridcolor\":\"white\",\"linecolor\":\"white\",\"showbackground\":true,\"ticks\":\"\",\"zerolinecolor\":\"white\",\"gridwidth\":2}},\"shapedefaults\":{\"line\":{\"color\":\"#2a3f5f\"}},\"annotationdefaults\":{\"arrowcolor\":\"#2a3f5f\",\"arrowhead\":0,\"arrowwidth\":1},\"geo\":{\"bgcolor\":\"white\",\"landcolor\":\"#E5ECF6\",\"subunitcolor\":\"white\",\"showland\":true,\"showlakes\":true,\"lakecolor\":\"white\"},\"title\":{\"x\":0.05},\"mapbox\":{\"style\":\"light\"}}},\"legend\":{\"tracegroupgap\":0},\"title\":{\"text\":\"R\\u00e9partition des cr\\u00e9ations d'entreprises parmi les 20 premi\\u00e8res communes\"}},                        {\"responsive\": true}                    ).then(function(){\n",
       "                            \n",
       "var gd = document.getElementById('88dd54a8-b98d-476d-8be9-575f7075cc6a');\n",
       "var x = new MutationObserver(function (mutations, observer) {{\n",
       "        var display = window.getComputedStyle(gd).display;\n",
       "        if (!display || display === 'none') {{\n",
       "            console.log([gd, 'removed!']);\n",
       "            Plotly.purge(gd);\n",
       "            observer.disconnect();\n",
       "        }}\n",
       "}});\n",
       "\n",
       "// Listen for the removal of the full notebook cells\n",
       "var notebookContainer = gd.closest('#notebook-container');\n",
       "if (notebookContainer) {{\n",
       "    x.observe(notebookContainer, {childList: true});\n",
       "}}\n",
       "\n",
       "// Listen for the clearing of the current output cell\n",
       "var outputEl = gd.closest('.output');\n",
       "if (outputEl) {{\n",
       "    x.observe(outputEl, {childList: true});\n",
       "}}\n",
       "\n",
       "                        })                };                });            </script>        </div>"
      ]
     },
     "metadata": {},
     "output_type": "display_data"
    }
   ],
   "source": [
    "\n",
    "fig = px.pie(top_20, values='Créations d\\'entr. En 2022', names='Libellé commune ou ARM',\n",
    "            title=\"Répartition des créations d'entreprises parmi les 20 premières communes\")\n",
    "fig.show()"
   ]
  },
  {
   "cell_type": "markdown",
   "id": "6dfda3dd-a334-45b3-bc24-5ee9c8e01bf6",
   "metadata": {},
   "source": [
    "\n",
    "* Dans notre étude, nous avons analysé les créations d'entreprises parmi les 20 premières communes en France. Nous avons constaté que Marseille se démarque clairement avec une part significative de 15% des créations. Cela témoigne d'un environnement entrepreneurial particulièrement dynamique dans cette ville.\n",
    "\n",
    "* Cependant, il est également intéressant de noter que d'autres communes comme Toulouse et Nice affichent des taux de création moins élevés, malgré leur taille et leur popularité. Par exemple, Toulouse représente 8,34%, tandis que Nice est à 7,37%. Cela soulève des questions sur les facteurs qui peuvent influencer ces chiffres.\n",
    "\n",
    "* Nous pensons qu'il est nécessaire de mener une étude plus approfondie pour expliquer pourquoi certaines communes, malgré une forte population ou une réputation bien établie, n'enregistrent pas autant de créations d'entreprises que d'autres. Des éléments comme l'accès aux financements, les politiques locales de soutien à l'entrepreneuriat, ou même la culture entrepreneuriale propre à chaque commune pourraient jouer un rôle crucial dans ces différences."
   ]
  },
  {
   "cell_type": "markdown",
   "id": "28f6099d-58e4-4714-9818-2abfce645649",
   "metadata": {},
   "source": [
    "### 5. Régression linéaire"
   ]
  },
  {
   "cell_type": "code",
   "execution_count": 38,
   "id": "f16dc83d-2f8c-4b69-b60a-2b92e839187d",
   "metadata": {},
   "outputs": [
    {
     "name": "stdout",
     "output_type": "stream",
     "text": [
      "                                OLS Regression Results                               \n",
      "=====================================================================================\n",
      "Dep. Variable:     Créations d'entr. En 2022   R-squared:                       0.582\n",
      "Model:                                   OLS   Adj. R-squared:                  0.582\n",
      "Method:                        Least Squares   F-statistic:                 4.871e+04\n",
      "Date:                       Wed, 02 Oct 2024   Prob (F-statistic):               0.00\n",
      "Time:                               03:19:52   Log-Likelihood:            -2.2662e+05\n",
      "No. Observations:                      34921   AIC:                         4.532e+05\n",
      "Df Residuals:                          34919   BIC:                         4.533e+05\n",
      "Df Model:                                  1                                         \n",
      "Covariance Type:                   nonrobust                                         \n",
      "==============================================================================\n",
      "                 coef    std err          t      P>|t|      [0.025      0.975]\n",
      "------------------------------------------------------------------------------\n",
      "const        -10.3896      0.873    -11.905      0.000     -12.100      -8.679\n",
      "Population     0.0218   9.87e-05    220.702      0.000       0.022       0.022\n",
      "==============================================================================\n",
      "Omnibus:                   138499.719   Durbin-Watson:                   1.798\n",
      "Prob(Omnibus):                  0.000   Jarque-Bera (JB):     251902612334.694\n",
      "Skew:                          99.439   Prob(JB):                         0.00\n",
      "Kurtosis:                   13159.156   Cond. No.                     9.05e+03\n",
      "==============================================================================\n",
      "\n",
      "Notes:\n",
      "[1] Standard Errors assume that the covariance matrix of the errors is correctly specified.\n",
      "[2] The condition number is large, 9.05e+03. This might indicate that there are\n",
      "strong multicollinearity or other numerical problems.\n"
     ]
    }
   ],
   "source": [
    "import statsmodels.api as sm\n",
    "\n",
    "X = POP_CreationEntrp['Population']\n",
    "y = POP_CreationEntrp['Créations d\\'entr. En 2022']\n",
    "\n",
    "X = sm.add_constant(X)  # Ajouter une constante (intercept)\n",
    "model = sm.OLS(y, X).fit()  # Régression linéaire ordinaire\n",
    "print(model.summary())  # Résumé du modèle\n"
   ]
  },
  {
   "cell_type": "code",
   "execution_count": 39,
   "id": "781e3d67-7d6c-4a5f-a76b-beea159122fb",
   "metadata": {},
   "outputs": [
    {
     "data": {
      "text/plain": [
       "<Axes: xlabel='Population', ylabel=\"Créations d'entr. En 2022\">"
      ]
     },
     "execution_count": 39,
     "metadata": {},
     "output_type": "execute_result"
    },
    {
     "data": {
      "image/png": "[encoded data removed]",
      "text/plain": [
       "<Figure size 640x480 with 1 Axes>"
      ]
     },
     "metadata": {},
     "output_type": "display_data"
    }
   ],
   "source": [
    "import seaborn as sns\n",
    "sns.regplot(x='Population', y='Créations d\\'entr. En 2022', data=POP_CreationEntrp)\n"
   ]
  },
  {
   "cell_type": "markdown",
   "id": "3f85383c-7e6b-4755-8a61-da7b5b9caf79",
   "metadata": {},
   "source": [
    "* L'analyse montre que le coefficient de détermination (R²) est de 0,582, indiquant que 58,2 % de la variance des créations d'entreprises peut être expliquée par la population. Cependant, bien que le coefficient de la population (0,218) soit statistiquement significatif, cela ne signifie pas qu'il existe une relation forte. Les scatter plots révèlent une tendance générale, mais la grande dispersion des données suggère qu'il y a d'autres facteurs influençant les créations d'entreprises.\n",
    "\n",
    "* De plus, la variabilité élevée dans les données pourrait indiquer la présence de valeurs aberrantes ou d'autres variables non considérées. En conclusion, même si la population semble avoir un effet significatif sur les créations d'entreprises, cela ne signifie pas qu'une augmentation de la population entraînera automatiquement une hausse des créations. "
   ]
  },
  {
   "cell_type": "code",
   "execution_count": null,
   "id": "ce08b4c5-7a30-498a-a676-e6805d25b5c1",
   "metadata": {},
   "outputs": [],
   "source": []
  }
 ],
 "metadata": {
  "kernelspec": {
   "display_name": "Python 3 (ipykernel)",
   "language": "python",
   "name": "python3"
  },
  "language_info": {
   "codemirror_mode": {
    "name": "ipython",
    "version": 3
   },
   "file_extension": ".py",
   "mimetype": "text/x-python",
   "name": "python",
   "nbconvert_exporter": "python",
   "pygments_lexer": "ipython3",
   "version": "3.11.6"
  }
 },
 "nbformat": 4,
 "nbformat_minor": 5
}
